{
 "cells": [
  {
   "cell_type": "markdown",
   "metadata": {
    "slideshow": {
     "slide_type": "slide"
    }
   },
   "source": [
    "<center><img title=\"a title\" alt=\"Alt text\" src=\"Georgian College Logo.svg\"></center>\n",
    "\n",
    "<h2><font color='#004b87'><center>AIDI 1003 Week 2</center></font></h2>\n",
    "<h3><center>Machine Learning Frameworks</center></h3>"
   ]
  },
  {
   "cell_type": "markdown",
   "metadata": {
    "slideshow": {
     "slide_type": "slide"
    }
   },
   "source": [
    "<center><img title=\"a title\" alt=\"Alt text\" src=\"welcome.jpg\"></center"
   ]
  },
  {
   "cell_type": "markdown",
   "metadata": {
    "slideshow": {
     "slide_type": "slide"
    }
   },
   "source": [
    "<h2>Week 1 Recap: Introduction to Machine Learning Frameworks and Environment Setup</h2>\n",
    "\n",
    "<p>In Week 1, we covered the foundational concepts of machine learning and the importance of machine learning frameworks for accelerating the development of AI systems. Here’s a brief recap of what we learned:</p>\n",
    "\n",
    "<ul>\n",
    "    <li><strong>Machine Learning Overview:</strong>\n",
    "        <p>We introduced machine learning as the process by which algorithms learn from data to make predictions or decisions without being explicitly programmed. We discussed three main types of machine learning:</p>\n",
    "        <ul>\n",
    "            <li><strong>Supervised Learning:</strong> Learning from labeled data (e.g., classification and regression tasks).</li>\n",
    "            <li><strong>Unsupervised Learning:</strong> Learning from unlabeled data to find patterns (e.g., clustering).</li>\n",
    "            <li><strong>Reinforcement Learning:</strong> Learning through trial and error using rewards and penalties.</li>\n",
    "        </ul>\n",
    "    </li>\n",
    "    <li><strong>Introduction to Machine Learning Frameworks:</strong>\n",
    "        <p>We explored popular frameworks used in machine learning projects:</p>\n",
    "        <ul>\n",
    "            <li><strong>Scikit-Learn:</strong> A simple, efficient tool for traditional machine learning algorithms.</li>\n",
    "            <li><strong>TensorFlow and Keras:</strong> Powerful tools for building and deploying deep learning models.</li>\n",
    "            <li><strong>PyTorch:</strong> A flexible, research-friendly framework often used in deep learning.</li>\n",
    "        </ul>\n",
    "    </li>\n",
    "    <li><strong>Environment Setup:</strong>\n",
    "        <p>We walked through setting up the Python environment using Anaconda and Jupyter Notebook. Additionally, we introduced <strong>Google Colab</strong>, a cloud-based platform for running Jupyter notebooks with access to GPUs for model training.</p>\n",
    "    </li>\n",
    "    <li><strong>Version Control with Git:</strong>\n",
    "        <p>We covered the basics of using Git for version control, including setting up a Git repository, committing changes, and pushing code to GitHub for collaboration.</p>\n",
    "    </li>\n",
    "</ul>\n",
    "\n",
    "<p>Make sure your Python environment is set up, and review the Git commands and frameworks introduced in Week 1 to prepare for the more advanced concepts coming in Week 2.</p>\n"
   ]
  },
  {
   "cell_type": "markdown",
   "metadata": {
    "slideshow": {
     "slide_type": "slide"
    }
   },
   "source": [
    "<h2><font color='#004b87'>Python Environment Setup: Anaconda, Jupyter Notebook, Google Colab (Including GPU Support)</font></h2>\n",
    "\n",
    "<h3>1. Anaconda Setup</h3>\n",
    "\n",
    "<p><strong>Anaconda</strong> is a popular Python distribution that simplifies the installation of Python, Jupyter Notebook, and a wide range of machine learning and data science libraries. It also helps manage different environments for different projects.</p>\n",
    "\n",
    "<h4>Step-by-Step Setup:</h4>\n",
    "<ol>\n",
    "    <li><strong>Download and Install Anaconda:</strong>\n",
    "        <ul>\n",
    "            <li>Go to the <a href=\"https://www.anaconda.com/products/distribution\" target=\"_blank\">Anaconda website</a> and download the installer for your operating system (Windows, macOS, Linux).</li>\n",
    "            <li>Follow the installation instructions provided on the website. Make sure to check the option to add Anaconda to your system PATH during installation.</li>\n",
    "        </ul>\n",
    "    </li>\n",
    "    <li><strong>Create a New Environment:</strong>\n",
    "        <ul>\n",
    "            <li>Open the Anaconda Navigator or use the command line (Anaconda Prompt on Windows, Terminal on macOS/Linux).</li>\n",
    "            <li>Create a new environment with a specific version of Python:<br>\n",
    "                <code>conda create -n ml_env python=3.8</code></li>\n",
    "            <li>Activate the environment:<br>\n",
    "                <code>conda activate ml_env</code></li>\n",
    "        </ul>\n",
    "    </li>\n",
    "    <li><strong>Install Essential Libraries:</strong>\n",
    "        <ul>\n",
    "            <li>Install essential libraries such as NumPy, Pandas, Scikit-Learn, TensorFlow, and PyTorch:<br>\n",
    "                <code>conda install numpy pandas scikit-learn</code><br>\n",
    "                <code>conda install -c conda-forge tensorflow</code><br>\n",
    "                <code>conda install pytorch torchvision torchaudio -c pytorch</code></li>\n",
    "        </ul>\n",
    "    </li>\n",
    "    <li><strong>Install Jupyter Notebook:</strong>\n",
    "        <ul>\n",
    "            <li>Install Jupyter Notebook in the environment:<br>\n",
    "                <code>conda install jupyter</code></li>\n",
    "        </ul>\n",
    "    </li>\n",
    "    <li><strong>Launch Jupyter Notebook:</strong>\n",
    "        <ul>\n",
    "            <li>Start Jupyter Notebook from the command line:<br>\n",
    "                <code>jupyter notebook</code></li>\n",
    "            <li>This will open the Jupyter Notebook interface in your default web browser.</li>\n",
    "        </ul>\n",
    "    </li>\n",
    "</ol>\n",
    "\n",
    "\n"
   ]
  },
  {
   "cell_type": "markdown",
   "metadata": {
    "slideshow": {
     "slide_type": "slide"
    }
   },
   "source": [
    "<h3>2. Jupyter Notebook Setup</h3>\n",
    "\n",
    "<p><strong>Jupyter Notebook</strong> is an open-source web application that allows you to create and share documents containing live code, equations, visualizations, and narrative text.</p>\n",
    "\n",
    "<h4>Key Features:</h4>\n",
    "<ul>\n",
    "    <li>Interactive coding environment</li>\n",
    "    <li>Supports multiple languages, though Python is the most common</li>\n",
    "    <li>Ideal for data cleaning, transformation, visualization, and machine learning tasks</li>\n",
    "</ul>\n",
    "\n",
    "<h4>GPU Support in Jupyter Notebook:</h4>\n",
    "<p>If you have a compatible NVIDIA GPU and CUDA toolkit installed, TensorFlow and PyTorch will automatically detect and utilize the GPU. Ensure you install the GPU versions of these libraries.</p>\n",
    "\n",
    "<h4>Steps to Set Up GPU Support:</h4>\n",
    "<ol>\n",
    "    <li><strong>Install NVIDIA Drivers:</strong>\n",
    "        <ul>\n",
    "            <li>Install the latest NVIDIA drivers for your GPU. You can download these from the <a href=\"https://www.nvidia.com/Download/index.aspx\" target=\"_blank\">NVIDIA website</a>.</li>\n",
    "        </ul>\n",
    "    </li>\n",
    "    <li><strong>Install CUDA Toolkit and cuDNN:</strong>\n",
    "        <ul>\n",
    "            <li>Download and install the CUDA toolkit and cuDNN from the <a href=\"https://developer.nvidia.com/cuda-downloads\" target=\"_blank\">NVIDIA Developer website</a>. Follow the installation instructions for your operating system.</li>\n",
    "        </ul>\n",
    "    </li>\n",
    "    <li><strong>Verify CUDA Installation:</strong>\n",
    "        <ul>\n",
    "            <li>After installation, verify the CUDA version:<br>\n",
    "                <code>nvcc --version</code></li>\n",
    "        </ul>\n",
    "    </li>\n",
    "    <li><strong>Install GPU Versions of Libraries:</strong>\n",
    "        <ul>\n",
    "            <li>Make sure to install the GPU-enabled versions of TensorFlow and PyTorch:<br>\n",
    "                <code>conda install -c conda-forge tensorflow-gpu</code><br>\n",
    "                <code>conda install pytorch torchvision torchaudio cudatoolkit=11.3 -c pytorch</code></li>\n",
    "        </ul>\n",
    "    </li>\n",
    "</ol>\n",
    "\n"
   ]
  },
  {
   "cell_type": "markdown",
   "metadata": {
    "slideshow": {
     "slide_type": "slide"
    }
   },
   "source": [
    "<h3>3. Google Colab Setup</h3>\n",
    "\n",
    "<p><strong>Google Colab</strong> (Colaboratory) is a free cloud-based Jupyter Notebook environment that allows you to run Python code on Google’s servers, with access to powerful GPUs and TPUs.</p>\n",
    "\n",
    "<h4>Key Features:</h4>\n",
    "<ul>\n",
    "    <li>No local setup required; runs entirely in the cloud</li>\n",
    "    <li>Free access to GPUs and TPUs</li>\n",
    "    <li>Ideal for machine learning and deep learning tasks</li>\n",
    "    <li>Real-time collaboration and sharing</li>\n",
    "</ul>\n",
    "\n",
    "<h4>Step-by-Step Setup:</h4>\n",
    "<ol>\n",
    "    <li><strong>Access Google Colab:</strong>\n",
    "        <ul>\n",
    "            <li>Visit <a href=\"https://colab.research.google.com/\" target=\"_blank\">Google Colab</a> and sign in with your Google account.</li>\n",
    "        </ul>\n",
    "    </li>\n",
    "    <li><strong>Create a New Notebook:</strong>\n",
    "        <ul>\n",
    "            <li>Click on “New Notebook” to create a new Jupyter Notebook in the Colab environment.</li>\n",
    "        </ul>\n",
    "    </li>\n",
    "    <li><strong>Enable GPU or TPU:</strong>\n",
    "        <ul>\n",
    "            <li>Go to <code>Runtime &gt; Change runtime type</code>.</li>\n",
    "            <li>Select <code>GPU</code> or <code>TPU</code> from the “Hardware accelerator” dropdown menu and click “Save.”</li>\n",
    "        </ul>\n",
    "    </li>\n",
    "    <li><strong>Install Required Libraries:</strong>\n",
    "        <ul>\n",
    "            <li>Google Colab comes pre-installed with many popular libraries, but you may need to install additional libraries. Use the <code>!pip install</code> command within a code cell:<br>\n",
    "                <code>!pip install scikit-learn tensorflow torch torchvision</code></li>\n",
    "        </ul>\n",
    "    </li>\n",
    "    <li><strong>Verify GPU Availability:</strong>\n",
    "        <ul>\n",
    "            <li>To verify that your Colab notebook is utilizing the GPU, run the following code:</li>\n",
    "        </ul>\n",
    "        <pre><code>import tensorflow as tf\n",
    "print(\"GPU is\", \"available\" if tf.config.list_physical_devices('GPU') else \"NOT AVAILABLE\")\n",
    "\n",
    "import torch\n",
    "print(\"GPU is\", \"available\" if torch.cuda.is_available() else \"NOT AVAILABLE\")</code></pre>\n",
    "    </li>\n",
    "</ol>\n",
    "\n"
   ]
  },
  {
   "cell_type": "markdown",
   "metadata": {
    "slideshow": {
     "slide_type": "slide"
    }
   },
   "source": [
    "<h3>Summary</h3>\n",
    "<ul>\n",
    "    <li><strong>Anaconda</strong> provides a comprehensive local environment for machine learning with powerful package management and environment isolation.</li>\n",
    "    <li><strong>Jupyter Notebook</strong> is a flexible, interactive tool ideal for machine learning tasks, which supports GPU acceleration if properly set up.</li>\n",
    "    <li><strong>Google Colab</strong> offers a hassle-free, cloud-based environment with free access to GPUs and TPUs, making it an excellent choice for students and researchers looking for a simple and scalable solution.</li>\n",
    "</ul>"
   ]
  },
  {
   "cell_type": "markdown",
   "metadata": {
    "slideshow": {
     "slide_type": "slide"
    }
   },
   "source": [
    "<h2><font color='#004b87'>Introduction to Git and Version Control</font></h2>\n",
    "\n",
    "\n",
    "<p><strong>Git</strong> is a distributed version control system that allows multiple developers to collaborate on a project by tracking changes to the codebase over time. It provides a robust way to manage the history of file changes, collaborate with others, and revert to previous versions of code when necessary. Git is widely used in software development and data science projects for maintaining code integrity, managing branches for different features or experiments, and integrating changes smoothly.</p>\n",
    "\n",
    "<h3>What is Version Control?</h3>\n",
    "\n",
    "<p><strong>Version control</strong> is a system that records changes to a file or set of files over time so that you can recall specific versions later. It is essential for collaborative work environments where multiple people contribute to the same project, allowing teams to work simultaneously without overwriting each other's changes. Version control also helps in maintaining a history of changes, making it easy to revert to previous versions, understand the evolution of the project, and ensure that code modifications are documented and traceable.</p>\n",
    "\n",
    "<h3>Benefits of Using Git for Version Control</h3>\n",
    "\n",
    "<ul>\n",
    "    <li><strong>Distributed System:</strong> Unlike centralized version control systems, Git allows every user to have a complete copy of the repository, including its history. This makes it robust and fault-tolerant.</li>\n",
    "    <li><strong>Collaboration:</strong> Git facilitates collaboration by allowing multiple developers to work on different branches simultaneously. Changes can be merged back into the main branch after review.</li>\n",
    "    <li><strong>Track Changes:</strong> Git tracks every modification to the codebase, making it easy to see who made changes, why, and when. This is crucial for debugging and auditing purposes.</li>\n",
    "    <li><strong>Revert Changes:</strong> If a change introduces a bug or breaks functionality, Git allows you to easily revert to a previous stable version of the code.</li>\n",
    "    <li><strong>Branching and Merging:</strong> Git's branching model allows developers to create multiple branches for different features or experiments. Once the changes are finalized, they can be merged back into the main branch.</li>\n",
    "</ul>\n",
    "\n"
   ]
  },
  {
   "cell_type": "markdown",
   "metadata": {
    "slideshow": {
     "slide_type": "slide"
    }
   },
   "source": [
    "<h2><font color='#004b87'>Setting Up Git</font></h2>\n",
    "\n",
    "<p>Follow these steps to set up Git on your local machine:</p>\n",
    "\n",
    "<h4>Step 1: Install Git</h4>\n",
    "\n",
    "<ul>\n",
    "    <li><strong>Windows:</strong> Download the Git installer from the <a href=\"https://git-scm.com/download/win\" target=\"_blank\">official Git website</a> and follow the installation instructions. During installation, choose \"Use Git from the Windows Command Prompt\" for easier access.</li>\n",
    "    <li><strong>macOS:</strong> Open the Terminal and run the following command:<br>\n",
    "        <code>xcode-select --install</code><br>\n",
    "        Alternatively, you can download the installer from the <a href=\"https://git-scm.com/download/mac\" target=\"_blank\">official Git website</a>.</li>\n",
    "    <li><strong>Linux:</strong> Install Git using your distribution's package manager. For example, on Debian-based distributions like Ubuntu, run:<br>\n",
    "        <code>sudo apt-get update</code><br>\n",
    "        <code>sudo apt-get install git</code></li>\n",
    "</ul>\n",
    "\n",
    "<h4>Step 2: Configure Git</h4>\n",
    "\n",
    "<p>After installing Git, configure it with your user information. This is important for tracking who makes changes to the repository.</p>\n",
    "\n",
    "<ul>\n",
    "    <li>Open your command line interface (Terminal, Command Prompt, or Git Bash).</li>\n",
    "    <li>Set your username:<br>\n",
    "        <code>git config --global user.name \"Your Name\"</code></li>\n",
    "    <li>Set your email address:<br>\n",
    "        <code>git config --global user.email \"your.email@example.com\"</code></li>\n",
    "    <li>Optionally, set your preferred text editor for Git commit messages:<br>\n",
    "        <code>git config --global core.editor \"nano\"</code><br>\n",
    "        Replace \"nano\" with your preferred text editor (e.g., vim, code for VS Code).</li>\n",
    "</ul>\n"
   ]
  },
  {
   "cell_type": "markdown",
   "metadata": {
    "slideshow": {
     "slide_type": "slide"
    }
   },
   "source": [
    "<h4>Step 3: Create a Local Git Repository</h4>\n",
    "\n",
    "<p>A Git repository is a directory where Git stores the history of changes. To create a new repository:</p>\n",
    "\n",
    "<ul>\n",
    "    <li>Navigate to the directory where you want to initialize a Git repository:<br>\n",
    "        <code>cd /path/to/your/project</code></li>\n",
    "    <li>Initialize a new Git repository:<br>\n",
    "        <code>git init</code></li>\n",
    "    <li>This creates a hidden <code>.git</code> directory that stores the repository data.</li>\n",
    "</ul>\n",
    "\n",
    "<h4>Step 4: Staging and Committing Changes</h4>\n",
    "\n",
    "<p>Git uses a two-step process to save changes: staging and committing.</p>\n",
    "\n",
    "<ul>\n",
    "    <li><strong>Staging Changes:</strong> To add files to the staging area (where you prepare files for the next commit), use:<br>\n",
    "        <code>git add filename</code><br>\n",
    "        Or to add all files:<br>\n",
    "        <code>git add .</code></li>\n",
    "    <li><strong>Committing Changes:</strong> To commit staged changes to the repository, use:<br>\n",
    "        <code>git commit -m \"Describe your changes here\"</code></li>\n",
    "</ul>"
   ]
  },
  {
   "cell_type": "markdown",
   "metadata": {
    "slideshow": {
     "slide_type": "slide"
    }
   },
   "source": [
    "<h4>Step 5: Connecting to a Remote Repository</h4>\n",
    "\n",
    "<p>To collaborate with others, you need to connect your local repository to a remote repository (e.g., on GitHub, GitLab, or Bitbucket).</p>\n",
    "\n",
    "<ul>\n",
    "    <li>Create a new repository on a remote hosting service like <a href=\"https://github.com/\" target=\"_blank\">GitHub</a>.</li>\n",
    "    <li>Copy the repository URL (e.g., <code>https://github.com/yourusername/your-repo.git</code>).</li>\n",
    "    <li>Add the remote repository to your local repository:<br>\n",
    "        <code>git remote add origin https://github.com/yourusername/your-repo.git</code></li>\n",
    "    <li>Push your changes to the remote repository:<br>\n",
    "        <code>git push -u origin master</code></li>\n",
    "</ul>\n",
    "\n",
    "<h4>Step 6: Common Git Commands</h4>\n",
    "\n",
    "<p>Here are some common Git commands you'll use frequently:</p>\n",
    "\n",
    "<ul>\n",
    "    <li><code>git status</code>: Shows the status of your working directory and staging area.</li>\n",
    "    <li><code>git pull</code>: Fetches and merges changes from the remote repository to your local repository.</li>\n",
    "    <li><code>git push</code>: Pushes local changes to the remote repository.</li>\n",
    "    <li><code>git branch</code>: Lists all branches in the repository. The <code>-a</code> option lists all branches, both local and remote.</li>\n",
    "    <li><code>git checkout branch-name</code>: Switches to a different branch.</li>\n",
    "    <li><code>git merge branch-name</code>: Merges the specified branch into the current branch.</li>\n",
    "</ul>"
   ]
  },
  {
   "cell_type": "markdown",
   "metadata": {
    "slideshow": {
     "slide_type": "slide"
    }
   },
   "source": [
    "<h4>Step 7: Best Practices for Using Git</h4>\n",
    "\n",
    "<ul>\n",
    "    <li><strong>Commit Frequently:</strong> Make small, frequent commits with clear messages to ensure each commit represents a single logical change.</li>\n",
    "    <li><strong>Use Branches:</strong> Use branches to isolate new features, experiments, or bug fixes. This keeps the main branch stable and clean.</li>\n",
    "    <li><strong>Write Clear Commit Messages:</strong> Write concise but descriptive commit messages to make it easier to understand the history of changes.</li>\n",
    "    <li><strong>Regularly Pull Changes:</strong> If working in a team, regularly pull changes from the remote repository to stay up to date with others' work.</li>\n",
    "    <li><strong>Review Code Before Merging:</strong> Before merging changes into the main branch, review the code to ensure it meets the project's standards and requirements.</li>\n",
    "</ul>\n",
    "\n",
    "<h3>Conclusion</h3>\n",
    "\n",
    "<p>Git is a powerful tool that enables version control and collaboration, essential for any software development or data science project. By understanding how to set up and use Git effectively, you can manage your codebase more efficiently, collaborate with others seamlessly, and maintain a robust history of your project’s development. Whether you're working on solo projects or as part of a team, mastering Git is a fundamental skill for any developer or data scientist.</p>"
   ]
  },
  {
   "cell_type": "markdown",
   "metadata": {
    "slideshow": {
     "slide_type": "slide"
    }
   },
   "source": [
    "<h1><font color='#004b87'>Handling Missing Data</font></h1> "
   ]
  },
  {
   "cell_type": "markdown",
   "metadata": {
    "slideshow": {
     "slide_type": "slide"
    }
   },
   "source": [
    "<h2><font color='#004b87'>Impact of Data Quality on Model Performance</font></h2>\n",
    "\n",
    "<p>High-quality data is critical for the success of machine learning models. Well-prepared and clean data allows models to capture underlying patterns and make accurate predictions. When data is free from errors, inconsistencies, and biases, models can learn effectively, leading to higher performance metrics such as accuracy, precision, and recall.</p>\n",
    "\n",
    "    \n",
    "<p>Conversely, poor-quality data introduces noise and incorrect information, which can confuse the model and result in underperformance or even misleading predictions. Issues like missing data, incorrect labels, and unnormalized features can cause models to overfit or underfit, ultimately reducing their reliability.</p>\n",
    "\n",
    "<h3>Key Effects of Data Quality on Models:</h3>\n",
    "<ul>\n",
    "    <li><strong>Improved Generalization:</strong> High-quality data helps models generalize better to unseen data, reducing overfitting.</li>\n",
    "    <li><strong>Reduced Bias:</strong> Clean, unbiased data ensures that models are not learning incorrect or irrelevant patterns.</li>\n",
    "    <li><strong>Higher Accuracy:</strong> Properly prepared data leads to higher accuracy and other performance metrics in model evaluation.</li>\n",
    "    <li><strong>Fewer Errors:</strong> Poor data quality can lead to increased errors in predictions, causing models to make faulty decisions.</li>\n",
    "</ul>\n"
   ]
  },
  {
   "cell_type": "markdown",
   "metadata": {
    "slideshow": {
     "slide_type": "slide"
    }
   },
   "source": [
    "<h2><font color='#004b87'>Overview of Common Data Issues in Machine Learning</font></h2>\n",
    "\n",
    "<p>Data issues can significantly affect the performance of machine learning models if not properly handled during the data preparation stage. Below are some of the most common data problems that need to be addressed before training a model:</p>\n",
    "\n",
    "<h3>Missing Values</h3>\n",
    "<p>Missing data occurs when certain observations are not recorded in the dataset. This can happen due to human error, incomplete data collection, or data corruption. Models cannot handle missing values effectively on their own, and failing to address them can lead to inaccurate predictions. Common strategies for handling missing data include removal of rows/columns, mean/median imputation, and using algorithms that can handle missing values natively.</p>\n",
    "\n",
    "<h3>Outliers</h3>\n",
    "<p>Outliers are data points that deviate significantly from other observations in the dataset. They can be caused by measurement errors, data entry mistakes, or they may represent rare but important events. If not handled properly, outliers can skew model predictions, especially in sensitive algorithms like linear regression or k-NN. Outliers can be detected using statistical methods like z-scores, and handled by capping, transformation, or removal.</p>\n",
    "\n"
   ]
  },
  {
   "cell_type": "markdown",
   "metadata": {
    "slideshow": {
     "slide_type": "slide"
    }
   },
   "source": [
    "<h2><font color='#004b87'>Overview of Common Data Issues in Machine Learning</font></h2>\n",
    "\n",
    "<h3>Data Scaling (Normalization/Standardization)</h3>\n",
    "<p>Many machine learning algorithms assume that data is on a similar scale. If features have widely different scales, some features can dominate others, leading to biased models. To prevent this, data needs to be scaled. Normalization scales data between a specific range (typically 0-1), while standardization centers the data around a mean of 0 with a standard deviation of 1. Techniques like min-max scaling or z-score normalization are commonly used.</p>\n",
    "\n",
    "<h3>Inconsistent Formats</h3>\n",
    "<p>Data may come from various sources and in different formats. For example, dates might be stored in different formats (MM/DD/YYYY vs. DD/MM/YYYY), and numeric values might use commas or periods differently for decimals. Inconsistent formats make data harder to analyze and can introduce errors during preprocessing. Addressing this involves standardizing formats across the dataset to ensure consistency.</p>\n",
    "\n",
    "<h3>Categorical Data</h3>\n",
    "<p>Categorical data consists of discrete values that represent labels or categories. Many machine learning models cannot handle categorical data directly, so it needs to be transformed into a numerical format. Common techniques include one-hot encoding for nominal categories and label encoding for ordinal categories. Improper handling of categorical data can lead to model errors or biases.</p>"
   ]
  },
  {
   "cell_type": "markdown",
   "metadata": {
    "slideshow": {
     "slide_type": "slide"
    }
   },
   "source": [
    "<h2><font color='#004b87'>Example Table of Common Data Issues</font></h2>\n",
    "\n",
    "<table border=\"1\" cellpadding=\"8\" cellspacing=\"0\">\n",
    "  <thead>\n",
    "    <tr>\n",
    "      <th>Row</th>\n",
    "      <th>Feature</th>\n",
    "      <th>Value</th>\n",
    "      <th>Data Issue</th>\n",
    "    </tr>\n",
    "  </thead>\n",
    "  <tbody>\n",
    "    <tr>\n",
    "      <td>1</td>\n",
    "      <td>Age</td>\n",
    "      <td>25</td>\n",
    "      <td>No Issue</td>\n",
    "    </tr>\n",
    "    <tr>\n",
    "      <td>2</td>\n",
    "      <td>Age</td>\n",
    "      <td>NA</td>\n",
    "      <td>Missing Value</td>\n",
    "    </tr>\n",
    "    <tr>\n",
    "      <td>3</td>\n",
    "      <td>Salary</td>\n",
    "      <td>1200000</td>\n",
    "      <td>Outlier (Unusually High Value)</td>\n",
    "    </tr>\n",
    "    <tr>\n",
    "      <td>4</td>\n",
    "      <td>Gender</td>\n",
    "      <td>Male</td>\n",
    "      <td>No Issue</td>\n",
    "    </tr>\n",
    "    <tr>\n",
    "      <td>5</td>\n",
    "      <td>Salary</td>\n",
    "      <td>45,000</td>\n",
    "      <td>Inconsistent Format (Comma Used)</td>\n",
    "    </tr>\n",
    "    <tr>\n",
    "      <td>6</td>\n",
    "      <td>Date of Birth</td>\n",
    "      <td>12-31-1990</td>\n",
    "      <td>Inconsistent Date Format (MM-DD-YYYY)</td>\n",
    "    </tr>\n",
    "    <tr>\n",
    "      <td>7</td>\n",
    "      <td>Age</td>\n",
    "      <td>-5</td>\n",
    "      <td>Outlier (Negative Value for Age)</td>\n",
    "    </tr>\n",
    "    <tr>\n",
    "      <td>8</td>\n",
    "      <td>Gender</td>\n",
    "      <td>F</td>\n",
    "      <td>Inconsistent Categorical Data (Abbreviation)</td>\n",
    "    </tr>\n",
    "    <tr>\n",
    "      <td>9</td>\n",
    "      <td>Salary</td>\n",
    "      <td>75k</td>\n",
    "      <td>Inconsistent Format (Abbreviation)</td>\n",
    "    </tr>\n",
    "    <tr>\n",
    "      <td>10</td>\n",
    "      <td>Age</td>\n",
    "      <td>65</td>\n",
    "      <td>No Issue</td>\n",
    "    </tr>\n",
    "  </tbody>\n",
    "</table>\n"
   ]
  },
  {
   "cell_type": "markdown",
   "metadata": {
    "slideshow": {
     "slide_type": "slide"
    }
   },
   "source": [
    "<h2><font color='#004b87'>Why Missing Data Happens</font></h2>\n",
    "\n",
    "<p>Missing data is a common issue in datasets and can occur for a variety of reasons. In many cases, missing values result from human error, such as incomplete data entry or mistakes during the data collection process. Additionally, technical problems, such as sensor malfunctions or data corruption, can cause missing values in automated data collection systems. Other times, data may be intentionally left blank due to privacy concerns, unavailable information, or non-applicable fields. Regardless of the reason, missing data can lead to biased or unreliable machine learning models if not handled properly.</p>\n",
    "\n",
    "<h3>Common Reasons for Missing Data:</h3>\n",
    "<ul>\n",
    "    <li><strong>Human Error:</strong> Incomplete data entry or mistakes made during manual data collection.</li>\n",
    "    <li><strong>Technical Issues:</strong> Sensor malfunctions, data corruption, or software failures during data capture.</li>\n",
    "    <li><strong>Privacy or Confidentiality:</strong> Certain fields may be left blank intentionally to protect sensitive information.</li>\n",
    "    <li><strong>Unavailability of Information:</strong> Some data points may not be available at the time of collection.</li>\n",
    "    <li><strong>Non-Applicable Fields:</strong> Certain fields may not apply to all cases, leading to intentionally missing data.</li>\n",
    "</ul>\n"
   ]
  },
  {
   "cell_type": "markdown",
   "metadata": {
    "slideshow": {
     "slide_type": "slide"
    }
   },
   "source": [
    "<h2><font color='#004b87'>Common Techniques for Handling Missing Data</font></h2>\n",
    "\n",
    "<p>Missing data isn't a case of \"if\" it's a case of when, every real work data set your come acorss will have missing data. Ignoring missing values or handling them improperly can lead to biased models and unreliable results. Depending on the situation and the dataset, different techniques can be applied to manage missing data effectively. These techniques help to ensure that the model has clean, consistent data to work with and that missing values do not negatively impact model performance.</p>\n",
    "\n",
    "<h3>Common Techniques for Handling Missing Data:</h3>\n",
    "\n",
    "<ul>\n",
    "<li><strong>Removing Rows or Columns:</strong> If the percentage of missing values is small or isolated to a specific feature, it may be appropriate to remove the rows or columns with missing data. This is commonly done when the missing data is not essential for the analysis or when its absence does not introduce bias.</li>\n",
    "    \n",
    "<li><strong>Mean/Median/Mode Imputation:</strong> For numerical data, missing values can be replaced by the mean, median, or mode of the available data. This technique is simple but can be effective when the missing values are relatively few and the data distribution is not highly skewed.</li>\n",
    "    \n",
    "<li><strong>Forward/Backward Fill:</strong> For time-series data, missing values can be imputed by filling them with the previous (forward fill) or subsequent (backward fill) data point. This technique assumes that the value doesn’t change drastically over time and works well for smooth, continuous data.</li>\n",
    "    \n",
    "<li><strong>K-Nearest Neighbors (KNN) Imputation:</strong> This more advanced technique replaces missing values by finding the k-nearest data points based on other features and using the average (or majority value) of these neighbors. KNN imputation can be more accurate but computationally expensive for large datasets.</li>\n",
    "    \n",
    "<li><strong>Predictive Modeling Imputation:</strong> Machine learning models can be trained to predict the missing values based on other available features. This approach can be powerful but requires a well-prepared dataset and careful model tuning.</li>\n",
    "\n",
    "<li><strong>Indicator for Missing Data:</strong> In some cases, you may choose to create a new binary feature that indicates whether a value was missing. This technique preserves information about the fact that the data was missing, which could be important for certain analyses.</li>\n",
    "</ul>\n"
   ]
  },
  {
   "cell_type": "markdown",
   "metadata": {
    "slideshow": {
     "slide_type": "slide"
    }
   },
   "source": [
    "<h2><font color='#004b87'>Breakdown of Techniques for Handling Missing Data</font></h2>\n",
    "\n",
    "<p>Handling missing data can be approached using several techniques depending on the nature of the missing values and the structure of the dataset. Below is a breakdown of the key techniques used to manage missing data with Pandas and SciKit-Learn’s <code>SimpleImputer</code>:</p>\n",
    "\n",
    "<h3>1. Using Pandas: <code>dropna()</code> and <code>fillna()</code></h3>\n",
    "<ul>\n",
    "    <li><strong><code>dropna()</code>:</strong> This function is used to remove rows or columns that contain missing values. It’s useful when missing data is sparse and doesn’t significantly affect the dataset. For example:\n",
    "        <pre><code>df.dropna()</code></pre>\n",
    "        This will drop all rows with any missing values.\n",
    "    </li>\n",
    "    <li><strong><code>fillna()</code>:</strong> This function allows you to fill missing values with a specified value. It can be useful when you want to replace missing numerical or categorical data with default values. For example:\n",
    "        <pre><code>df.fillna({'Age': 30, 'Salary': 55000, 'Gender': 'Unknown'})</code></pre>\n",
    "        This will fill missing ages with 30, missing salaries with 55,000, and missing genders with ‘Unknown’.\n",
    "    </li>\n",
    "</ul>\n",
    "\n"
   ]
  },
  {
   "cell_type": "markdown",
   "metadata": {
    "slideshow": {
     "slide_type": "slide"
    }
   },
   "source": [
    "<h2><font color='#004b87'>Breakdown of Techniques for Handling Missing Data Continued</font></h2>\n",
    "\n",
    "<h3>2. Using SciKit-Learn’s <code>SimpleImputer</code></h3>\n",
    "<ul>\n",
    "    <li><strong>Imputation for Numerical Data:</strong> <code>SimpleImputer</code> can replace missing values in numerical columns using strategies such as the mean, median, or a constant. This helps ensure that missing values don’t distort the model's training. For example:\n",
    "        <pre><code>imputer = SimpleImputer(strategy='mean')\n",
    "df['Age'] = imputer.fit_transform(df[['Age']])</code></pre>\n",
    "        This will replace missing values in the ‘Age’ column with the mean age from the dataset.\n",
    "    </li>\n",
    "    <li><strong>Imputation for Categorical Data:</strong> For categorical features, the most common strategy is to replace missing values with the most frequent category. For example:\n",
    "        <pre><code>imputer_cat = SimpleImputer(strategy='most_frequent')\n",
    "df['Gender'] = imputer_cat.fit_transform(df[['Gender']])</code></pre>\n",
    "        This replaces missing values in the ‘Gender’ column with the most frequent gender in the dataset.\n",
    "    </li>\n",
    "    <li><strong>Handling <code>None</code> or <code>NaN</code> in Categorical Columns:</strong> It’s important to convert <code>None</code> values to <code>NaN</code> before applying the imputer, as <code>None</code> is not recognized as missing data by default. You can do this with:\n",
    "        <pre><code>df['Gender'].replace({None: np.nan}, inplace=True)</code></pre>\n",
    "        This step ensures consistent handling of missing data in categorical columns.\n",
    "    </li>\n",
    "</ul>\n"
   ]
  },
  {
   "cell_type": "code",
   "execution_count": 1,
   "metadata": {
    "slideshow": {
     "slide_type": "slide"
    }
   },
   "outputs": [
    {
     "name": "stdout",
     "output_type": "stream",
     "text": [
      "Original Dataset:\n",
      "     Name   Age   Salary  Gender\n",
      "0   John  28.0  50000.0    Male\n",
      "1   Anna   NaN  54000.0  Female\n",
      "2  Peter  35.0      NaN    None\n",
      "3  Linda   NaN  62000.0  Female\n",
      "4  James  30.0      NaN    Male\n"
     ]
    }
   ],
   "source": [
    "import pandas as pd\n",
    "\n",
    "# Create a sample dataset with missing values\n",
    "data = {\n",
    "    'Name': ['John', 'Anna', 'Peter', 'Linda', 'James'],\n",
    "    'Age': [28, None, 35, None, 30],\n",
    "    'Salary': [50000, 54000, None, 62000, None],\n",
    "    'Gender': ['Male', 'Female', None, 'Female', 'Male']\n",
    "}\n",
    "\n",
    "df = pd.DataFrame(data)\n",
    "print(\"Original Dataset:\\n\", df)\n"
   ]
  },
  {
   "cell_type": "code",
   "execution_count": 3,
   "metadata": {
    "slideshow": {
     "slide_type": "slide"
    }
   },
   "outputs": [
    {
     "name": "stdout",
     "output_type": "stream",
     "text": [
      "Original Dataset:\n",
      "     Name   Age   Salary  Gender\n",
      "0   John  28.0  50000.0    Male\n",
      "1   Anna   NaN  54000.0  Female\n",
      "2  Peter  35.0      NaN    None\n",
      "3  Linda   NaN  62000.0  Female\n",
      "4  James  30.0      NaN    Male\n",
      "\n",
      "Dataset after using SimpleImputer:\n",
      "     Name   Age        Salary  Gender\n",
      "0   John  28.0  50000.000000    Male\n",
      "1   Anna  31.0  54000.000000  Female\n",
      "2  Peter  35.0  55333.333333  Female\n",
      "3  Linda  31.0  62000.000000  Female\n",
      "4  James  30.0  55333.333333    Male\n"
     ]
    }
   ],
   "source": [
    "import pandas as pd\n",
    "from sklearn.impute import SimpleImputer\n",
    "import numpy as np\n",
    "\n",
    "# Sample dataset with missing values\n",
    "data = {\n",
    "    'Name': ['John', 'Anna', 'Peter', 'Linda', 'James'],\n",
    "    'Age': [28, None, 35, None, 30],\n",
    "    'Salary': [50000, 54000, None, 62000, None],\n",
    "    'Gender': ['Male', 'Female', None, 'Female', 'Male']\n",
    "}\n",
    "df = pd.DataFrame(data)\n",
    "\n",
    "# Show original dataset\n",
    "print(\"Original Dataset:\\n\", df)\n",
    "\n",
    "# Convert None in categorical columns to NaN\n",
    "df['Gender'].replace({None: np.nan}, inplace=True)\n",
    "\n",
    "# -----------------------------------------\n",
    "# Using SciKit-Learn’s SimpleImputer for Categorical Data (Gender)\n",
    "# -----------------------------------------\n",
    "\n",
    "# Impute missing values in categorical columns using the most frequent value\n",
    "imputer_cat = SimpleImputer(strategy='most_frequent')\n",
    "df['Gender'] = imputer_cat.fit_transform(df[['Gender']])\n",
    "\n",
    "# Impute missing values in numerical columns using the mean\n",
    "imputer = SimpleImputer(strategy='mean')\n",
    "df['Age'] = imputer.fit_transform(df[['Age']])\n",
    "df['Salary'] = imputer.fit_transform(df[['Salary']])\n",
    "\n",
    "# Show final dataset after imputation\n",
    "print(\"\\nDataset after using SimpleImputer:\\n\", df)\n"
   ]
  },
  {
   "cell_type": "markdown",
   "metadata": {
    "slideshow": {
     "slide_type": "slide"
    }
   },
   "source": [
    "<h1><font color='#004b87'>Data Normalization and Scaling</font></h1> "
   ]
  },
  {
   "cell_type": "markdown",
   "metadata": {
    "slideshow": {
     "slide_type": "slide"
    }
   },
   "source": [
    "<h2><font color='#004b87'>What is Scaling and Why Does It Matter?</font></h2>\n",
    "\n",
    "<p>Scaling is the process of transforming the values of numerical features so that they fall within a specific range or follow a standard distribution. This process is essential because many machine learning algorithms, especially distance-based ones like k-NN and SVM, are sensitive to the scale of the input data. Without scaling, features with larger values can dominate those with smaller values, leading to biased results. Scaling ensures that each feature contributes equally to the model, allowing the algorithm to consider all features without bias toward one due to its larger numerical range.</p>\n",
    "\n",
    "<p>There are two common methods of scaling: normalization and standardization. Normalization (or min-max scaling) compresses the data into a specified range, typically 0 to 1. This is particularly useful when the features have known bounds. Standardization, on the other hand, transforms the data so that it has a mean of 0 and a standard deviation of 1. Standardization is often preferred when the data follows a normal distribution, and it ensures that the features are on the same scale without distorting their variability.</p>\n",
    "\n",
    "<h3>Why Scaling Matters:</h3>\n",
    "<ul>\n",
    "    <li><strong>Equal Feature Contribution:</strong> Scaling ensures that no single feature dominates the learning process due to its magnitude, ensuring fair contribution from all features.</li>\n",
    "    <li><strong>Improved Model Performance:</strong> Many machine learning algorithms, especially those that rely on distances (e.g., k-NN, SVM, or logistic regression), require scaled data to perform optimally.</li>\n",
    "    <li><strong>Convergence in Gradient Descent:</strong> In models that use gradient-based optimizers (like neural networks), scaling helps the optimization process converge faster, leading to better performance and reduced training time.</li>\n",
    "    <li><strong>Prevents Model Bias:</strong> Without scaling, features with larger ranges could cause models to overweight their importance, leading to biased predictions.</li>\n",
    "</ul>\n"
   ]
  },
  {
   "cell_type": "markdown",
   "metadata": {
    "slideshow": {
     "slide_type": "slide"
    }
   },
   "source": [
    "<h2><font color='#004b87'>Common Scaling Techniques and Real-Life Examples Part 1</font></h2>\n",
    "\n",
    "<p>Scaling techniques are used to standardize or normalize data before feeding it into machine learning models. Different techniques are suited for various scenarios depending on the nature of the data and the algorithm used. Below are some common scaling techniques and real-life examples where they are applied:</p>\n",
    "\n",
    "<h3>1. Min-Max Scaling (Normalization)</h3>\n",
    "<p><strong>What it is:</strong> Min-max scaling, also known as normalization, transforms the data by scaling features to a specific range, typically between 0 and 1. This is achieved by subtracting the minimum value of the feature and dividing by the range (max-min).\n",
    "</p>\n",
    "<pre><code>\n",
    "X_scaled = (X - X_min) / (X_max - X_min)\n",
    "</code></pre>\n",
    "<p><strong>Where it’s used:</strong>\n",
    "<ul>\n",
    "    <li><strong>Image Processing:</strong> When working with pixel values in images, normalization is crucial as pixel intensities typically range from 0 to 255. Scaling these values between 0 and 1 is essential for image classification tasks in models like CNNs (Convolutional Neural Networks).</li>\n",
    "    <li><strong>Financial Data:</strong> In stock market analysis, features like price or volume can vary widely. Min-max scaling ensures that all features contribute equally, regardless of their initial range.</li>\n",
    "</ul>\n",
    "</p>\n",
    "\n",
    "<h3>2. Standardization (Z-Score Scaling)</h3>\n",
    "<p><strong>What it is:</strong> Standardization scales the data so that the mean is 0 and the standard deviation is 1. This technique is useful when the data follows a normal distribution. Standardization subtracts the mean and divides by the standard deviation of the feature.\n",
    "</p>\n",
    "<pre><code>\n",
    "X_scaled = (X - X_mean) / X_std\n",
    "</code></pre>\n",
    "<p><strong>Where it’s used:</strong>\n",
    "<ul>\n",
    "    <li><strong>Medical Data:</strong> In clinical trials, measurements like blood pressure or cholesterol levels are standardized to compare patients on a similar scale, ensuring no single measurement dominates the analysis.</li>\n",
    "    <li><strong>Neural Networks:</strong> Standardization is frequently used in training neural networks, where the activation functions (such as sigmoid or tanh) work better when input data is centered around zero.</li>\n",
    "</ul>\n",
    "</p>\n"
   ]
  },
  {
   "cell_type": "markdown",
   "metadata": {
    "slideshow": {
     "slide_type": "slide"
    }
   },
   "source": [
    "<h2><font color='#004b87'>Common Scaling Techniques and Real-Life Examples Part 2</font></h2>\n",
    "\n",
    "\n",
    "<h3>3. Robust Scaling</h3>\n",
    "<p><strong>What it is:</strong> Robust scaling uses percentiles, typically the interquartile range (IQR), to scale data. It is less sensitive to outliers compared to min-max scaling or standardization. This makes it ideal when data contains significant outliers.\n",
    "</p>\n",
    "<pre><code>\n",
    "X_scaled = (X - X_median) / IQR\n",
    "</code></pre>\n",
    "<p><strong>Where it’s used:</strong>\n",
    "<ul>\n",
    "    <li><strong>Financial Transactions:</strong> In credit card fraud detection, robust scaling is useful because financial data often has extreme outliers (such as unusually high transactions) that would distort models if min-max scaling were applied.</li>\n",
    "    <li><strong>Housing Price Prediction:</strong> In real estate, property values can vary widely. Using robust scaling helps account for outliers like luxury properties without distorting the overall distribution of the data.</li>\n",
    "</ul>\n",
    "</p>\n",
    "\n",
    "<h3>4. MaxAbs Scaling</h3>\n",
    "<p><strong>What it is:</strong> MaxAbs scaling scales data based on the absolute maximum value of each feature. Unlike min-max scaling, it does not shift or center the data, making it useful for datasets that are already centered at zero.\n",
    "</p>\n",
    "<pre><code>\n",
    "X_scaled = X / max(abs(X))\n",
    "</code></pre>\n",
    "<p><strong>Where it’s used:</strong>\n",
    "<ul>\n",
    "    <li><strong>Text Data (TF-IDF features):</strong> In text analysis and natural language processing, MaxAbs scaling is used when working with term-frequency inverse-document-frequency (TF-IDF) vectors. It ensures that no feature (term) dominates because of its absolute frequency.</li>\n",
    "</ul>\n",
    "</p>\n"
   ]
  },
  {
   "cell_type": "markdown",
   "metadata": {
    "slideshow": {
     "slide_type": "slide"
    }
   },
   "source": [
    "<h2><font color='#004b87'>Common Scaling Techniques and Real-Life Examples Part 3</font></h2>\n",
    "\n",
    "<h3>5. Log Transformation</h3>\n",
    "<p><strong>What it is:</strong> Log transformation is used to scale data that follows an exponential distribution. It reduces the impact of large values by compressing the range, making skewed data more normalized. Log transformation is not technically a scaling technique, but it is used to reduce the variance in datasets with highly skewed distributions.\n",
    "</p>\n",
    "<pre><code>\n",
    "X_scaled = log(X + 1)\n",
    "</code></pre>\n",
    "<p><strong>Where it’s used:</strong>\n",
    "<ul>\n",
    "    <li><strong>Economic Data:</strong> In economic analysis, variables like income and population often follow an exponential distribution. Log transformation is used to make these variables easier to work with, particularly when predicting economic growth or income distributions.</li>\n",
    "    <li><strong>Environmental Data:</strong> In environmental studies, pollutant levels (like CO2 emissions) can be highly skewed. Log transformation helps normalize these values for better model predictions.</li>\n",
    "</ul>\n",
    "</p>\n",
    "\n",
    "<h3>6. Power Transformation (Box-Cox or Yeo-Johnson)</h3>\n",
    "<p><strong>What it is:</strong> Power transformation techniques such as Box-Cox or Yeo-Johnson are used to stabilize variance and make data more normal distribution-like. This technique is particularly useful when the data has both positive and negative values, and log transformation is not applicable.\n",
    "</p>\n",
    "<p><strong>Where it’s used:</strong>\n",
    "<ul>\n",
    "    <li><strong>Marketing Analytics:</strong> When analyzing customer purchase frequency or behavior, power transformations help stabilize the data for more accurate predictive models.</li>\n",
    "</ul>\n",
    "</p>"
   ]
  },
  {
   "cell_type": "markdown",
   "metadata": {
    "slideshow": {
     "slide_type": "slide"
    }
   },
   "source": [
    "<h2><font color='#004b87'>Scaling Examples - Boston Housing Dataset</font></h2>\n",
    "\n",
    "<p>The <strong>Boston Housing dataset</strong> is a classic dataset in machine learning, often used for regression tasks. It contains data on housing prices in the suburbs of Boston, Massachusetts, and is frequently used to demonstrate how machine learning algorithms, particularly regression models, can be applied to predict continuous outcomes (in this case, housing prices).</p>\n",
    "\n",
    "<h3>Key Information About the Dataset:</h3>\n",
    "<ul>\n",
    "    <li><strong>Purpose:</strong> The dataset is used to predict the median value of owner-occupied homes (in $1000s) based on various features related to the housing area.</li>\n",
    "    <li><strong>Number of Instances (Rows):</strong> 506</li>\n",
    "    <li><strong>Number of Features (Columns):</strong> 13</li>\n",
    "    <li><strong>Target Variable:</strong> The target variable is the median home value (<code>MEDV</code>), measured in thousands of dollars.</li>\n",
    "</ul>\n",
    "\n",
    "\n"
   ]
  },
  {
   "cell_type": "markdown",
   "metadata": {
    "slideshow": {
     "slide_type": "slide"
    }
   },
   "source": [
    "<h3>Features:</h3>\n",
    "<p>The dataset includes 13 features, each describing some aspect of the homes or the neighborhood:</p>\n",
    "<ul>\n",
    "    <li><strong>CRIM:</strong> Per capita crime rate by town.</li>\n",
    "    <li><strong>ZN:</strong> Proportion of residential land zoned for large lots (over 25,000 sq. ft.).</li>\n",
    "    <li><strong>INDUS:</strong> Proportion of non-retail business acres per town.</li>\n",
    "    <li><strong>CHAS:</strong> Charles River dummy variable (1 if the tract bounds the river; 0 otherwise).</li>\n",
    "    <li><strong>NOX:</strong> Nitric oxide concentration (parts per 10 million).</li>\n",
    "    <li><strong>RM:</strong> Average number of rooms per dwelling.</li>\n",
    "    <li><strong>AGE:</strong> Proportion of owner-occupied units built prior to 1940.</li>\n",
    "    <li><strong>DIS:</strong> Weighted distances to five Boston employment centers.</li>\n",
    "    <li><strong>RAD:</strong> Index of accessibility to radial highways.</li>\n",
    "    <li><strong>TAX:</strong> Full-value property tax rate per $10,000.</li>\n",
    "    <li><strong>PTRATIO:</strong> Pupil-teacher ratio by town.</li>\n",
    "    <li><strong>B:</strong> 1000(Bk - 0.63)^2, where Bk is the proportion of Black residents by town.</li>\n",
    "    <li><strong>LSTAT:</strong> Percentage of the population considered lower status.</li>\n",
    "</ul>\n",
    "\n",
    "<h3>Target Variable:</h3>\n",
    "<p><strong>MEDV:</strong> Median value of owner-occupied homes in $1000s.</p>\n",
    "\n",
    "<h3>Usage:</h3>\n",
    "<ul>\n",
    "    <li><strong>Predicting Home Prices:</strong> Using the features (crime rate, average number of rooms, proximity to highways, etc.), a regression model can be trained to predict the median value of homes.</li>\n",
    "    <li><strong>Feature Importance Analysis:</strong> Analyzing which features (e.g., crime rate, number of rooms) have the most significant impact on home prices.</li>\n",
    "</ul>\n",
    "\n",
    "<p>Note: While the Boston Housing dataset is widely used, it is an older dataset, and more modern datasets are often recommended for real-world applications.</p>"
   ]
  },
  {
   "cell_type": "code",
   "execution_count": 18,
   "metadata": {
    "slideshow": {
     "slide_type": "slide"
    }
   },
   "outputs": [
    {
     "name": "stdout",
     "output_type": "stream",
     "text": [
      "0        4.526\n",
      "1        3.585\n",
      "2        3.521\n",
      "3        3.413\n",
      "4        3.422\n",
      "         ...  \n",
      "20635    0.781\n",
      "20636    0.771\n",
      "20637    0.923\n",
      "20638    0.847\n",
      "20639    0.894\n",
      "Length: 20640, dtype: float64\n"
     ]
    }
   ],
   "source": [
    "import numpy as np\n",
    "import pandas as pd\n",
    "from sklearn.model_selection import train_test_split\n",
    "from sklearn.linear_model import LinearRegression\n",
    "from sklearn.neighbors import KNeighborsRegressor\n",
    "from sklearn.metrics import mean_squared_error\n",
    "from sklearn.datasets import fetch_california_housing\n",
    "from sklearn.preprocessing import MinMaxScaler, StandardScaler, RobustScaler\n",
    "\n",
    "# Load the Boston Housing dataset\n",
    "boston = fetch_california_housing()\n",
    "#print(boston.target)\n",
    "X = pd.DataFrame(boston.data, columns=boston.feature_names)\n",
    "#print(X)\n",
    "y = pd.Series(boston.target)\n",
    "print(y)\n",
    "# Split the dataset into training and testing sets\n",
    "X_train, X_test, y_train, y_test = train_test_split(X, y, test_size=0.2, random_state=42)"
   ]
  },
  {
   "cell_type": "code",
   "execution_count": 12,
   "metadata": {
    "slideshow": {
     "slide_type": "slide"
    }
   },
   "outputs": [
    {
     "name": "stdout",
     "output_type": "stream",
     "text": [
      "Linear Regression MSE without scaling: 24.2911\n",
      "k-NN MSE without scaling: 25.8601\n"
     ]
    }
   ],
   "source": [
    "# ----------------------------------------\n",
    "# Linear Regression without scaling\n",
    "# ----------------------------------------\n",
    "model_lr = LinearRegression()\n",
    "model_lr.fit(X_train, y_train)\n",
    "y_pred_lr = model_lr.predict(X_test)\n",
    "mse_lr = mean_squared_error(y_test, y_pred_lr)\n",
    "print(f\"Linear Regression MSE without scaling: {mse_lr:.4f}\")\n",
    "\n",
    "# ----------------------------------------\n",
    "# k-NN without scaling\n",
    "# ----------------------------------------\n",
    "model_knn = KNeighborsRegressor(n_neighbors=5)\n",
    "model_knn.fit(X_train, y_train)\n",
    "y_pred_knn = model_knn.predict(X_test)\n",
    "mse_knn = mean_squared_error(y_test, y_pred_knn)\n",
    "print(f\"k-NN MSE without scaling: {mse_knn:.4f}\")\n"
   ]
  },
  {
   "cell_type": "code",
   "execution_count": 13,
   "metadata": {
    "slideshow": {
     "slide_type": "slide"
    }
   },
   "outputs": [
    {
     "name": "stdout",
     "output_type": "stream",
     "text": [
      "\n",
      "MinMaxScaler:\n",
      "  Linear Regression MSE with scaling: 24.2911\n",
      "  k-NN MSE with scaling: 21.7122\n",
      "\n",
      "StandardScaler:\n",
      "  Linear Regression MSE with scaling: 24.2911\n",
      "  k-NN MSE with scaling: 20.6055\n",
      "\n",
      "RobustScaler:\n",
      "  Linear Regression MSE with scaling: 24.2911\n",
      "  k-NN MSE with scaling: 21.2985\n"
     ]
    }
   ],
   "source": [
    "# Apply different scaling techniques and compare\n",
    "scalers = {\n",
    "    'MinMaxScaler': MinMaxScaler(),\n",
    "    'StandardScaler': StandardScaler(),\n",
    "    'RobustScaler': RobustScaler()\n",
    "}\n",
    "\n",
    "for scaler_name, scaler in scalers.items():\n",
    "    # Apply scaler to both training and test sets\n",
    "    X_train_scaled = scaler.fit_transform(X_train)\n",
    "    X_test_scaled = scaler.transform(X_test)\n",
    "\n",
    "    # Linear Regression with scaling\n",
    "    model_lr_scaled = LinearRegression()\n",
    "    model_lr_scaled.fit(X_train_scaled, y_train)\n",
    "    y_pred_lr_scaled = model_lr_scaled.predict(X_test_scaled)\n",
    "    mse_lr_scaled = mean_squared_error(y_test, y_pred_lr_scaled)\n",
    "    \n",
    "    # k-NN with scaling\n",
    "    model_knn_scaled = KNeighborsRegressor(n_neighbors=5)\n",
    "    model_knn_scaled.fit(X_train_scaled, y_train)\n",
    "    y_pred_knn_scaled = model_knn_scaled.predict(X_test_scaled)\n",
    "    mse_knn_scaled = mean_squared_error(y_test, y_pred_knn_scaled)\n",
    "\n",
    "    # Output results for both models\n",
    "    print(f\"\\n{scaler_name}:\")\n",
    "    print(f\"  Linear Regression MSE with scaling: {mse_lr_scaled:.4f}\")\n",
    "    print(f\"  k-NN MSE with scaling: {mse_knn_scaled:.4f}\")"
   ]
  },
  {
   "cell_type": "markdown",
   "metadata": {
    "slideshow": {
     "slide_type": "slide"
    }
   },
   "source": [
    "<h2><font color='#004b87'>Key Points</font></h2>\n",
    "<ul>\n",
    "    <li><strong>Linear Regression:</strong> You may see only a slight difference in Mean Squared Error (MSE) when using scaling because it is less sensitive to feature scaling.</li>\n",
    "    <li><strong>k-NN Regressor:</strong> You should see a clearer difference in MSE after applying scaling techniques because k-NN is a distance-based algorithm and relies heavily on the scale of the features.</li>\n",
    "</ul>\n",
    "\n",
    "<h2><font color='#004b87'>Explanation</font></h2>\n",
    "<ul>\n",
    "    <li><strong>MinMaxScaler:</strong> Scales all features between 0 and 1, which can make a significant difference for algorithms like k-NN that are sensitive to distances.</li>\n",
    "    <li><strong>StandardScaler:</strong> Standardizes the features so that they have a mean of 0 and a standard deviation of 1, which helps algorithms like k-NN perform better when features are on different scales.</li>\n",
    "    <li><strong>RobustScaler:</strong> Scales data using percentiles (typically the interquartile range), making it less sensitive to outliers compared to other scaling methods.</li>\n",
    "</ul>\n",
    "\n",
    "<h2><font color='#004b87'>Expected Results</font></h2>\n",
    "<p>You should observe the following when running the experiment:</p>\n",
    "<ul>\n",
    "    <li>The <strong>k-NN</strong> algorithm performs differently across different scalers, showing the importance of scaling for distance-based models.</li>\n",
    "    <li><strong>Linear Regression</strong> will have similar performance across scalers, but there may be slight variations due to changes in the conditioning of the feature matrix.</li>\n",
    "    <li>Scaling has a larger impact on distance-based models like k-NN, SVM, and neural networks compared to Linear Regression.</li>\n",
    "</ul>\n"
   ]
  },
  {
   "cell_type": "markdown",
   "metadata": {
    "slideshow": {
     "slide_type": "slide"
    }
   },
   "source": [
    "<h1><font color='#004b87'>Categorical Data Encoding </font></h1> "
   ]
  },
  {
   "cell_type": "markdown",
   "metadata": {
    "slideshow": {
     "slide_type": "slide"
    }
   },
   "source": [
    "<h2><font color='#004b87'>Introduction to Categorical Data</font></h2>\n",
    "\n",
    "<p><strong>Categorical data</strong> refers to variables that represent discrete categories or labels, rather than numerical values. These categories can either be names, labels, or rankings. Unlike continuous data, categorical data cannot be meaningfully added, subtracted, or used in mathematical operations, but it is crucial for many types of analyses, especially in machine learning models where algorithms need these categories to be converted into numerical representations. Categorical data is often divided into two main types: <strong>nominal</strong> and <strong>ordinal</strong> data.</p>\n",
    "\n",
    "<h3><font color='#004b87'>Nominal Data</font></h3>\n",
    "<p><strong>Nominal data</strong> is a type of categorical data where the categories do not have an inherent order or ranking. Each category is distinct, but there’s no meaningful way to compare them or say one is greater or less than the other. Nominal data is often used to label entities, such as names, colors, or types.</p>\n",
    "\n",
    "<ul>\n",
    "    <li><strong>Examples of Nominal Data:</strong>\n",
    "        <ul>\n",
    "            <li>Colors: Red, Blue, Green</li>\n",
    "            <li>Gender: Male, Female</li>\n",
    "            <li>Car Brands: Toyota, Ford, Honda</li>\n",
    "        </ul>\n",
    "    </li>\n",
    "</ul>\n",
    "\n",
    "<h3><font color='#004b87'>Ordinal Data</font></h3>\n",
    "<p><strong>Ordinal data</strong> is a type of categorical data where the categories have a meaningful order or ranking, but the differences between the categories are not measurable. Although you can rank the categories, you cannot quantify the gap between them. This type of data is often used in situations where there’s a hierarchy or ranking, but the scale is not uniform.</p>\n",
    "\n",
    "<ul>\n",
    "    <li><strong>Examples of Ordinal Data:</strong>\n",
    "        <ul>\n",
    "            <li>Educational Level: High School, Bachelor's, Master's, PhD</li>\n",
    "            <li>Customer Satisfaction: Poor, Fair, Good, Excellent</li>\n",
    "            <li>Movie Ratings: 1 star, 2 stars, 3 stars, 4 stars, 5 stars</li>\n",
    "        </ul>\n",
    "    </li>\n",
    "</ul>\n"
   ]
  },
  {
   "attachments": {
    "Categorical-data-Nominal-vs-ordinal-scale%20%281%29.jpg": {
     "image/jpeg": "[encoded data removed]"
    }
   },
   "cell_type": "markdown",
   "metadata": {
    "slideshow": {
     "slide_type": "slide"
    }
   },
   "source": [
    "![Categorical-data-Nominal-vs-ordinal-scale%20%281%29.jpg](attachment:Categorical-data-Nominal-vs-ordinal-scale%20%281%29.jpg)"
   ]
  },
  {
   "cell_type": "markdown",
   "metadata": {
    "slideshow": {
     "slide_type": "slide"
    }
   },
   "source": [
    "<h2><font color='#004b87'>Categorical Encoding Techniques</font></h2>\n",
    "\n",
    "<p>Categorical encoding is the process of converting categorical variables into numerical representations so that they can be used in machine learning models. Most algorithms cannot work directly with categorical data, especially when the data is nominal or ordinal. Below are some of the most common techniques used for encoding categorical data:</p>\n",
    "\n",
    "<h3><font color='#004b87'>1. One-Hot Encoding</font></h3>\n",
    "<p><strong>One-Hot Encoding</strong> is one of the most commonly used techniques for encoding categorical data. It converts each category into a new binary column (0 or 1), where each row has a value of 1 for the corresponding category and 0 for all other categories. This technique is suitable for nominal data (no natural order).</p>\n",
    "<ul>\n",
    "    <li><strong>Example:</strong>\n",
    "        <pre><code>\n",
    "        Original Data:\n",
    "        Color: Red, Blue, Green\n",
    "\n",
    "        One-Hot Encoded:\n",
    "        Red | Blue | Green\n",
    "        1   | 0    | 0\n",
    "        0   | 1    | 0\n",
    "        0   | 0    | 1\n",
    "        </code></pre>\n",
    "    </li>\n",
    "</ul>\n",
    "\n",
    "\n"
   ]
  },
  {
   "cell_type": "markdown",
   "metadata": {
    "slideshow": {
     "slide_type": "slide"
    }
   },
   "source": [
    "<h3><font color='#004b87'>2. Label Encoding</font></h3>\n",
    "<p><strong>Label Encoding</strong> assigns a unique integer to each category. While this method is simple and efficient, it can introduce unintended ordinal relationships between the categories. It is generally suitable for ordinal data (categories that have an order), but should be used with caution for nominal data to avoid misleading the model.</p>\n",
    "<ul>\n",
    "    <li><strong>Example:</strong>\n",
    "        <pre><code>\n",
    "        Original Data:\n",
    "        Color: Red, Blue, Green\n",
    "\n",
    "        Label Encoded:\n",
    "        Red = 1, Blue = 2, Green = 3\n",
    "        </code></pre>\n",
    "    </li>\n",
    "</ul>"
   ]
  },
  {
   "cell_type": "markdown",
   "metadata": {
    "slideshow": {
     "slide_type": "slide"
    }
   },
   "source": [
    "<h3><font color='#004b87'>3. Ordinal Encoding</font></h3>\n",
    "<p><strong>Ordinal Encoding</strong> is used when the categorical values have a meaningful order, but the intervals between the values may not be uniform. It assigns a unique integer to each category based on the rank of the category. This is particularly useful for ordinal data, where the order matters.</p>\n",
    "<ul>\n",
    "    <li><strong>Example:</strong>\n",
    "        <pre><code>\n",
    "        Original Data:\n",
    "        Education: High School, Bachelor's, Master's, PhD\n",
    "\n",
    "        Ordinal Encoded:\n",
    "        High School = 1, Bachelor's = 2, Master's = 3, PhD = 4\n",
    "        </code></pre>\n",
    "    </li>\n",
    "</ul>"
   ]
  },
  {
   "cell_type": "markdown",
   "metadata": {
    "slideshow": {
     "slide_type": "slide"
    }
   },
   "source": [
    "<h3><font color='#004b87'>4. Target Encoding</font></h3>\n",
    "<p><strong>Target Encoding</strong> replaces categorical values with the mean of the target variable for each category. This encoding method is useful when there is a strong correlation between the categorical feature and the target variable, but care must be taken to avoid overfitting, especially when the dataset is small.</p>\n",
    "<ul>\n",
    "    <li><strong>Example:</strong>\n",
    "        <pre><code>\n",
    "        Original Data:\n",
    "        City: New York, San Francisco, Boston\n",
    "\n",
    "        Target Encoded (Based on Mean House Prices):\n",
    "        New York = 500,000, San Francisco = 800,000, Boston = 400,000\n",
    "        </code></pre>\n",
    "    </li>\n",
    "</ul>"
   ]
  },
  {
   "cell_type": "markdown",
   "metadata": {
    "slideshow": {
     "slide_type": "slide"
    }
   },
   "source": [
    "<h3><font color='#004b87'>5. Binary Encoding</font></h3>\n",
    "<p><strong>Binary Encoding</strong> is a technique that combines the advantages of label encoding and one-hot encoding. It first converts the category into a label (integer), then the integer is converted to binary form. Each binary digit is then placed in a separate column. This technique is efficient for high cardinality categorical features.</p>\n",
    "<ul>\n",
    "    <li><strong>Example:</strong>\n",
    "        <pre><code>\n",
    "        Original Data:\n",
    "        Color: Red, Blue, Green\n",
    "\n",
    "        Binary Encoded:\n",
    "        Red = 1 -> 01, Blue = 2 -> 10, Green = 3 -> 11\n",
    "\n",
    "        Binary Encoded Columns:\n",
    "        0 | 1\n",
    "        0 | 1  (Red)\n",
    "        1 | 0  (Blue)\n",
    "        1 | 1  (Green)\n",
    "        </code></pre>\n",
    "    </li>\n",
    "</ul>"
   ]
  },
  {
   "cell_type": "markdown",
   "metadata": {
    "slideshow": {
     "slide_type": "slide"
    }
   },
   "source": [
    "<h3><font color='#004b87'>6. Frequency Encoding</font></h3>\n",
    "<p><strong>Frequency Encoding</strong> replaces each category with the frequency (or count) of its occurrence in the dataset. This encoding method is often used when the categories are numerous, and it helps reduce the dimensionality compared to one-hot encoding.</p>\n",
    "<ul>\n",
    "    <li><strong>Example:</strong>\n",
    "        <pre><code>\n",
    "        Original Data:\n",
    "        City: New York, San Francisco, Boston, Boston\n",
    "\n",
    "        Frequency Encoded:\n",
    "        New York = 1, San Francisco = 1, Boston = 2\n",
    "        </code></pre>\n",
    "    </li>\n",
    "</ul>"
   ]
  },
  {
   "cell_type": "markdown",
   "metadata": {
    "slideshow": {
     "slide_type": "slide"
    }
   },
   "source": [
    "<h3><font color='#004b87'>7. Hashing Encoding</font></h3>\n",
    "<p><strong>Hashing Encoding</strong> (or feature hashing) uses a hash function to convert categories into numerical values. It is useful when working with large datasets or categorical features with high cardinality (many unique values). Unlike one-hot encoding, it does not require knowing all the categories beforehand. However, collisions (\n"
   ]
  },
  {
   "cell_type": "markdown",
   "metadata": {
    "slideshow": {
     "slide_type": "slide"
    }
   },
   "source": [
    "<h3><font color='#004b87'>Encoding Examples</font></h3>"
   ]
  },
  {
   "cell_type": "code",
   "execution_count": 14,
   "metadata": {},
   "outputs": [
    {
     "name": "stdout",
     "output_type": "stream",
     "text": [
      "Original Dataset:\n",
      "             City  Gender Purchased\n",
      "0       New York    Male       Yes\n",
      "1  San Francisco  Female        No\n",
      "2         Boston  Female       Yes\n",
      "3  San Francisco  Female        No\n",
      "4         Boston    Male       Yes\n"
     ]
    }
   ],
   "source": [
    "import pandas as pd\n",
    "\n",
    "# Example dataset with categorical features\n",
    "data = {\n",
    "    'City': ['New York', 'San Francisco', 'Boston', 'San Francisco', 'Boston'],\n",
    "    'Gender': ['Male', 'Female', 'Female', 'Female', 'Male'],\n",
    "    'Purchased': ['Yes', 'No', 'Yes', 'No', 'Yes']\n",
    "}\n",
    "\n",
    "df = pd.DataFrame(data)\n",
    "print(\"Original Dataset:\\n\", df)\n"
   ]
  },
  {
   "cell_type": "code",
   "execution_count": 15,
   "metadata": {
    "slideshow": {
     "slide_type": "slide"
    }
   },
   "outputs": [
    {
     "name": "stdout",
     "output_type": "stream",
     "text": [
      "\n",
      "Dataset after One-Hot Encoding using Pandas get_dummies():\n",
      "    City_New York  City_San Francisco  Gender_Male  Purchased_Yes\n",
      "0              1                   0            1              1\n",
      "1              0                   1            0              0\n",
      "2              0                   0            0              1\n",
      "3              0                   1            0              0\n",
      "4              0                   0            1              1\n"
     ]
    }
   ],
   "source": [
    "# One-Hot Encoding using Pandas' get_dummies\n",
    "df_encoded_pandas = pd.get_dummies(df, columns=['City', 'Gender', 'Purchased'], drop_first=True)\n",
    "print(\"\\nDataset after One-Hot Encoding using Pandas get_dummies():\\n\", df_encoded_pandas)\n"
   ]
  },
  {
   "cell_type": "code",
   "execution_count": 16,
   "metadata": {
    "slideshow": {
     "slide_type": "slide"
    }
   },
   "outputs": [
    {
     "ename": "AttributeError",
     "evalue": "'OneHotEncoder' object has no attribute 'get_feature_names_out'",
     "output_type": "error",
     "traceback": [
      "\u001b[1;31m---------------------------------------------------------------------------\u001b[0m",
      "\u001b[1;31mAttributeError\u001b[0m                            Traceback (most recent call last)",
      "\u001b[1;32m<ipython-input-16-4066977e3c68>\u001b[0m in \u001b[0;36m<module>\u001b[1;34m\u001b[0m\n\u001b[0;32m     11\u001b[0m \u001b[1;33m\u001b[0m\u001b[0m\n\u001b[0;32m     12\u001b[0m \u001b[1;31m# Get the encoded feature names from OneHotEncoder\u001b[0m\u001b[1;33m\u001b[0m\u001b[1;33m\u001b[0m\u001b[1;33m\u001b[0m\u001b[0m\n\u001b[1;32m---> 13\u001b[1;33m \u001b[0mencoded_columns\u001b[0m \u001b[1;33m=\u001b[0m \u001b[0mencoder\u001b[0m\u001b[1;33m.\u001b[0m\u001b[0mget_feature_names_out\u001b[0m\u001b[1;33m(\u001b[0m\u001b[1;33m[\u001b[0m\u001b[1;34m'City'\u001b[0m\u001b[1;33m,\u001b[0m \u001b[1;34m'Gender'\u001b[0m\u001b[1;33m,\u001b[0m \u001b[1;34m'Purchased'\u001b[0m\u001b[1;33m]\u001b[0m\u001b[1;33m)\u001b[0m\u001b[1;33m\u001b[0m\u001b[1;33m\u001b[0m\u001b[0m\n\u001b[0m\u001b[0;32m     14\u001b[0m \u001b[1;33m\u001b[0m\u001b[0m\n\u001b[0;32m     15\u001b[0m \u001b[1;31m# Convert the encoded result into a DataFrame\u001b[0m\u001b[1;33m\u001b[0m\u001b[1;33m\u001b[0m\u001b[1;33m\u001b[0m\u001b[0m\n",
      "\u001b[1;31mAttributeError\u001b[0m: 'OneHotEncoder' object has no attribute 'get_feature_names_out'"
     ]
    }
   ],
   "source": [
    "from sklearn.preprocessing import OneHotEncoder\n",
    "\n",
    "# One-Hot Encoding using SciKit-Learn's OneHotEncoder\n",
    "encoder = OneHotEncoder(drop='first', sparse=False)\n",
    "\n",
    "# Select categorical columns to encode\n",
    "X_categorical = df[['City', 'Gender', 'Purchased']]\n",
    "\n",
    "# Fit and transform the data\n",
    "X_encoded = encoder.fit_transform(X_categorical)\n",
    "\n",
    "# Get the encoded feature names from OneHotEncoder\n",
    "encoded_columns = encoder.get_feature_names_out(['City', 'Gender', 'Purchased'])\n",
    "\n",
    "# Convert the encoded result into a DataFrame\n",
    "df_encoded_sklearn = pd.DataFrame(X_encoded, columns=encoded_columns)\n",
    "\n",
    "print(\"\\nDataset after One-Hot Encoding using SciKit-Learn's OneHotEncoder:\\n\", df_encoded_sklearn)\n"
   ]
  },
  {
   "cell_type": "markdown",
   "metadata": {
    "slideshow": {
     "slide_type": "slide"
    }
   },
   "source": [
    "<h2><font color='#004b87'>Breakdown of One-Hot Encoding Methods</font></h2>\n",
    "\n",
    "<h3><font color='#004b87'>1. Pandas <code>get_dummies()</code></font></h3>\n",
    "<p><strong>Pandas <code>get_dummies()</code></strong> is a simple and convenient method for performing one-hot encoding. It automatically converts categorical columns into one-hot encoded columns. This method is often used for quick tasks when preparing datasets for machine learning models. Additionally, the <code>drop_first=True</code> argument is used to avoid the dummy variable trap by removing one category from each feature, preventing multicollinearity.</p>\n",
    "\n",
    "<ul>\n",
    "    <li><strong>Advantages:</strong>\n",
    "        <ul>\n",
    "            <li>Quick and easy to implement.</li>\n",
    "            <li>Automatically detects and handles categorical columns.</li>\n",
    "        </ul>\n",
    "    </li>\n",
    "    <li><strong>Example:</strong>\n",
    "        <pre><code>\n",
    "        City_San Francisco  City_New York  Gender_Male  Purchased_Yes\n",
    "        0                   0              1            1\n",
    "        1                   1              0            0\n",
    "        2                   0              0            0\n",
    "        3                   1              0            0\n",
    "        4                   0              0            1\n",
    "        </code></pre>\n",
    "    </li>\n",
    "</ul>\n",
    "\n"
   ]
  },
  {
   "cell_type": "markdown",
   "metadata": {
    "slideshow": {
     "slide_type": "slide"
    }
   },
   "source": [
    "<h3><font color='#004b87'>2. SciKit-Learn <code>OneHotEncoder</code></font></h3>\n",
    "<p><strong>SciKit-Learn’s <code>OneHotEncoder</code></strong> provides more flexibility and is commonly used in machine learning pipelines, especially when integrating with other preprocessing steps. Similar to Pandas' <code>get_dummies()</code>, the <code>drop='first'</code> argument helps to avoid the dummy variable trap by removing one category. <code>OneHotEncoder</code> requires the categorical columns to be specified and works well for encoding within models that require pipelines.</p>\n",
    "\n",
    "<ul>\n",
    "    <li><strong>Advantages:</strong>\n",
    "        <ul>\n",
    "            <li>More customizable and integrates seamlessly with machine learning pipelines.</li>\n",
    "            <li>Handles both sparse and dense output options, reducing memory usage for large datasets.</li>\n",
    "        </ul>\n",
    "    </li>\n",
    "    <li><strong>Example:</strong>\n",
    "        <pre><code>\n",
    "        City_Boston  City_San Francisco  Gender_Male  Purchased_Yes\n",
    "        0          0.0                 0.0          1.0            1.0\n",
    "        1          0.0                 1.0          0.0            0.0\n",
    "        2          1.0                 0.0          0.0            1.0\n",
    "        3          0.0                 1.0          0.0            0.0\n",
    "        4          1.0                 0.0          1.0            1.0\n",
    "        </code></pre>\n",
    "    </li>\n",
    "</ul>\n",
    "\n",
    "<h3><font color='#004b87'>Comparison:</font></h3>\n",
    "<ul>\n",
    "    <li><strong>Pandas <code>get_dummies()</code></strong> is faster and simpler to use, making it ideal for quick transformations or small projects.</li>\n",
    "    <li><strong>SciKit-Learn <code>OneHotEncoder</code></strong> is more flexible and useful when working with larger machine learning workflows that involve pipelines.</li>\n",
    "</ul>\n"
   ]
  },
  {
   "cell_type": "markdown",
   "metadata": {
    "slideshow": {
     "slide_type": "slide"
    }
   },
   "source": [
    "<h1><font color='#004b87'>Feature Engineering and Interaction Terms</font></h1> "
   ]
  },
  {
   "cell_type": "markdown",
   "metadata": {
    "slideshow": {
     "slide_type": "slide"
    }
   },
   "source": [
    "<h2><font color='#004b87'>What is Feature Engineering?</font></h2>\n",
    "\n",
    "<p><strong>Feature engineering</strong> is the process of transforming raw data into features that better represent the underlying patterns of the problem to the machine learning algorithm, thereby improving the model's performance. It involves creating new features, modifying existing ones, or selecting the most relevant features to provide the model with the best possible inputs for prediction. The goal of feature engineering is to capture the most useful information from the data, making it easier for the model to learn meaningful relationships and improve its predictive accuracy.</p>\n",
    "\n",
    "<h3><font color='#004b87'>Examples of Feature Engineering:</font></h3>\n",
    "<ul>\n",
    "    <li><strong>Creating Interaction Features:</strong> Combining two or more features to capture their interaction (e.g., multiplying house size and number of bedrooms to create a new feature).</li>\n",
    "    <li><strong>Handling Date and Time Data:</strong> Extracting useful information such as the day of the week, month, or season from a timestamp feature.</li>\n",
    "    <li><strong>Text Data Processing:</strong> Converting text data into numerical form using techniques like term frequency-inverse document frequency (TF-IDF) or word embeddings.</li>\n",
    "    <li><strong>Log Transformation:</strong> Applying a log transformation to skewed data to reduce the effect of extreme values (e.g., transforming income data).</li>\n",
    "    <li><strong>Feature Scaling:</strong> Scaling features so that they are on the same scale using techniques like min-max scaling or standardization.</li>\n",
    "    <li><strong>Polynomial Features:</strong> Creating polynomial features (e.g., squared or cubed versions of existing features) to model non-linear relationships.</li>\n",
    "</ul>\n"
   ]
  },
  {
   "cell_type": "code",
   "execution_count": null,
   "metadata": {
    "slideshow": {
     "slide_type": "skip"
    }
   },
   "outputs": [],
   "source": [
    "!conda install scikit-learn=1.0"
   ]
  },
  {
   "cell_type": "code",
   "execution_count": null,
   "metadata": {},
   "outputs": [],
   "source": []
  },
  {
   "cell_type": "markdown",
   "metadata": {
    "slideshow": {
     "slide_type": "slide"
    }
   },
   "source": [
    "<h2><font color='#004b87'>Basics of Feature Engineering</font></h2>\n",
    "\n",
    "<p>Feature engineering is a crucial process in machine learning that involves transforming raw data into meaningful features that help improve the performance of machine learning models. Below are some common techniques used in feature engineering:</p>\n",
    "\n",
    "<h3><font color='#004b87'>1. Creating Interaction Terms Between Features</font></h3>\n",
    "<p>Interaction terms are created by multiplying or combining two or more features to capture the relationship between them. This helps the model understand how the combination of certain features impacts the target variable.</p>\n",
    "<ul>\n",
    "    <li><strong>Example:</strong> In a housing dataset, you can multiply the <code>House Size</code> and <code>Number of Bedrooms</code> to create a new feature that captures the interaction between these two characteristics.</li>\n",
    "    <li><strong>Use case:</strong> Interaction terms are useful when the combined effect of features matters more than their individual effects.</li>\n",
    "</ul>\n",
    "\n",
    "<h3><font color='#004b87'>2. Creating Polynomial Features</font></h3>\n",
    "<p>Polynomial features are created by raising existing features to higher powers (e.g., squared or cubed) to capture non-linear relationships. This allows models like linear regression to model non-linear patterns in the data.</p>\n",
    "<ul>\n",
    "    <li><strong>Example:</strong> If a feature <code>x</code> impacts the target in a quadratic way, you can add a new feature <code>x²</code> to help the model capture that non-linear relationship.</li>\n",
    "    <li><strong>Use case:</strong> Polynomial features are beneficial when there is evidence of a non-linear relationship between the feature and the target variable.</li>\n",
    "</ul>\n",
    "\n"
   ]
  },
  {
   "cell_type": "markdown",
   "metadata": {
    "slideshow": {
     "slide_type": "slide"
    }
   },
   "source": [
    "<h3><font color='#004b87'>3. Feature Binning (Discretization)</font></h3>\n",
    "<p>Feature binning is the process of grouping continuous variables into discrete categories or bins. This can simplify the feature and capture patterns that might not be obvious from the continuous data.</p>\n",
    "<ul>\n",
    "    <li><strong>Example:</strong> Grouping ages into categories like <code>0-18</code>, <code>19-35</code>, <code>36-60</code>, and <code>60+</code> instead of using continuous age values.</li>\n",
    "    <li><strong>Use case:</strong> Binning is particularly useful when working with highly variable continuous features that you want to simplify.</li>\n",
    "</ul>\n",
    "\n",
    "<h3><font color='#004b87'>4. Logarithmic and Other Mathematical Transformations</font></h3>\n",
    "<p>Logarithmic transformations and other mathematical transformations are used to reduce the impact of skewed data, making it more normally distributed. Logarithmic transformations help to compress large values and spread out small values, often used for data that has exponential growth patterns.</p>\n",
    "<ul>\n",
    "    <li><strong>Example:</strong> If income data is heavily skewed, applying a logarithmic transformation can reduce the effect of outliers and make the data more normally distributed.</li>\n",
    "    <li><strong>Use case:</strong> This technique is useful for handling skewed data or features with long tails that can distort model predictions.</li>\n",
    "</ul>\n"
   ]
  },
  {
   "cell_type": "markdown",
   "metadata": {
    "slideshow": {
     "slide_type": "slide"
    }
   },
   "source": [
    "<h2><font color='#004b87'>Why Feature Engineering Matters</font></h2>\n",
    "\n",
    "<p>Feature engineering is crucial in machine learning because the quality of the input data has a direct impact on the model’s ability to learn and make accurate predictions. Raw data, in its original form, often lacks the necessary structure or detail to capture the underlying patterns that the model needs to learn. By transforming and enriching the data through feature engineering, we provide the model with more informative and meaningful features that allow it to better understand relationships within the data. For instance, creating interaction terms between features or applying transformations to reduce skewness can make a significant difference in how well a model performs.</p>\n",
    "\n",
    "<p>Moreover, well-engineered features can help improve the model’s accuracy, reduce overfitting, and make the model more interpretable. By simplifying complex data or extracting useful information from raw inputs, feature engineering can make machine learning models more robust and adaptable to new data. Without proper feature engineering, even the most advanced algorithms may struggle to achieve optimal results, leading to poor model performance or misinterpretation of the data. In many cases, feature engineering can be the difference between a mediocre model and a highly accurate, reliable one.</p>\n"
   ]
  },
  {
   "cell_type": "markdown",
   "metadata": {
    "slideshow": {
     "slide_type": "slide"
    }
   },
   "source": [
    "<h2><font color='#004b87'>Week 2 Blackboard Assignment</font></h2>"
   ]
  }
 ],
 "metadata": {
  "celltoolbar": "Slideshow",
  "kernelspec": {
   "display_name": "Python 3",
   "language": "python",
   "name": "python3"
  },
  "language_info": {
   "codemirror_mode": {
    "name": "ipython",
    "version": 3
   },
   "file_extension": ".py",
   "mimetype": "text/x-python",
   "name": "python",
   "nbconvert_exporter": "python",
   "pygments_lexer": "ipython3",
   "version": "3.12.5"
  }
 },
 "nbformat": 4,
 "nbformat_minor": 4
}
