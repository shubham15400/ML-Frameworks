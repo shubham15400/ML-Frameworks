{
 "cells": [
  {
   "cell_type": "markdown",
   "metadata": {
    "slideshow": {
     "slide_type": "slide"
    }
   },
   "source": [
    "<center><img title=\"a title\" alt=\"Alt text\" src=\"Georgian College Logo.svg\"></center>\n",
    "\n",
    "<h2><font color='#004b87'><center>AIDI 1003 Week 1</center></font></h2>\n",
    "<h3><center>Machine Learning Frameworks</center></h3>"
   ]
  },
  {
   "cell_type": "markdown",
   "metadata": {
    "slideshow": {
     "slide_type": "slide"
    }
   },
   "source": [
    "<center><img title=\"a title\" alt=\"Alt text\" src=\"welcome.jpg\"></center"
   ]
  },
  {
   "cell_type": "markdown",
   "metadata": {
    "slideshow": {
     "slide_type": "slide"
    }
   },
   "source": [
    "<h1><font color='#004b87'>About Me</font></h1>\n",
    "<p></p>\n",
    "<li>Budget and Planning Director at Infrastrucutre Ontario</li>\n",
    "<li>Previous roles as a Data Science Developer with MGCS and Reporting Analyst at MOHLTC</li>\n",
    "<li>BDAT Graduate</li>\n",
    "<li>Prior to BDAT I worked in biotechnology</li>\n",
    "<li>BSc from the University of Western Ontatio: Double Major Medical Physics and Genetics</li>\n",
    "<li>Interesting Fact: Hackathon Winner and coach</li>\n"
   ]
  },
  {
   "cell_type": "markdown",
   "metadata": {
    "slideshow": {
     "slide_type": "slide"
    }
   },
   "source": [
    "<h1><font color='#004b87'>Online Learning</font></h1>\n",
    "<p></p>\n",
    "<li>Pandemic has changed how the course is delivered</li>\n",
    "<li>Many of you are on different continents and time zones</li>\n",
    "<li>Videos are delivered weekly live on Wednesdays and posted</li>\n",
    "<li>Lectures are accompanied by a blackboard assignent that must be complete within 24 hours </li>\n",
    "<li>2 reccomended textbooks</li>\n",
    "<li>Introduction to Machine Learning with Python by Andreas C. Müller and Sarah Guido</li>\n",
    "<li>Hands-On Machine Learning with Scikit-Learn, Keras, and TensorFlow\" by Aurélien Géron</li>\n",
    "<li>Jupyter Notebook accompanies each lecture</li>"
   ]
  },
  {
   "cell_type": "markdown",
   "metadata": {
    "slideshow": {
     "slide_type": "slide"
    }
   },
   "source": [
    "<h1><font color='#004b87'>About Machine Learning Frameworks</font></h1>\n",
    "<p></p>\n",
    "<li>Gain hands-on experience with machine learning frameworks, including Scikit-Learn, TensorFlow, and PyTorch.</li>\n",
    "<li>Learn to prepare and preprocess data for various machine learning tasks using Python libraries</li>\n",
    "<li>Develop and implement supervised and unsupervised learning models, including deep learning architectures.</li>\n",
    "<li>Explore advanced machine learning techniques such as reinforcement learning and automated machine learning (AutoML)</li>\n",
    "<li>Deploy machine learning models in production environments and work on a comprehensive capstone project.</li>"
   ]
  },
  {
   "cell_type": "markdown",
   "metadata": {
    "slideshow": {
     "slide_type": "slide"
    }
   },
   "source": [
    "<h1><font color='#004b87'>Grade Breakdown</font></h1>\n",
    "<p></p>\n",
    "<li>Group Project worth 30% each</li>\n",
    "<li>Weekly Blackboard Assignments worth 30% (10 assignments x 3%)</li>\n",
    "<li>Midterm worth 20%</li>\n",
    "<li>Final Exam worth 20%</li>\n"
   ]
  },
  {
   "cell_type": "markdown",
   "metadata": {
    "slideshow": {
     "slide_type": "slide"
    }
   },
   "source": [
    "<h1><font color='#004b87'>Machine Learning Frameworks Pre-requsites</font></h1>\n",
    "\n",
    "\n",
    "<ul>\n",
    "    <li><strong>Basic Programming Skills in Python:</strong>\n",
    "        <ul>\n",
    "            <li>Fundamentals of Python programming, including data types, control structures (loops, conditionals), functions, and error handling.</li>\n",
    "            <li>Experience with Python libraries commonly used in data science, such as NumPy and Pandas.</li>\n",
    "        </ul>\n",
    "    </li>\n",
    "    <li><strong>Foundations of Mathematics and Statistics:</strong>\n",
    "        <ul>\n",
    "            <li>Basic linear algebra (vectors, matrices, operations).</li>\n",
    "            <li>Fundamental calculus concepts (derivatives, gradients).</li>\n",
    "            <li>Basic probability and statistics (distributions, mean, variance, hypothesis testing).</li>\n",
    "        </ul>\n",
    "    </li>\n",
    "    <li><strong>Introduction to Machine Learning Concepts:</strong>\n",
    "        <ul>\n",
    "            <li>Basic understanding of machine learning concepts (supervised vs. unsupervised learning).</li>\n",
    "            <li>Familiarity with common algorithms (linear regression, logistic regression, decision trees, clustering).</li>\n",
    "            <li>Basic knowledge of overfitting, underfitting, bias-variance trade-off.</li>\n",
    "        </ul>\n",
    "    </li>\n",
    "    <li><strong>Familiarity with Data Analysis and Visualization:</strong>\n",
    "        <ul>\n",
    "            <li>Experience in data wrangling and cleaning using Python libraries (Pandas).</li>\n",
    "            <li>Basic data visualization skills using libraries like Matplotlib or Seaborn.</li>\n",
    "        </ul>\n",
    "    </li>\n",
    "    <li><strong>Basic Knowledge of Version Control (Git/GitHub):</strong>\n",
    "        <ul>\n",
    "            <li>Fundamental commands of Git (clone, commit, push, pull).</li>\n",
    "            <li>Basic understanding of branching and merging.</li>\n",
    "        </ul>\n",
    "    </li>\n",
    "</ul>\n",
    "\n",
    "<p>Students lacking any of these prerequisites are encouraged to complete relevant online courses or tutorials to bridge the knowledge gap before starting this course.</p>\n"
   ]
  },
  {
   "cell_type": "markdown",
   "metadata": {
    "slideshow": {
     "slide_type": "slide"
    }
   },
   "source": [
    "<h1><font color='#004b87'>Recommended Online Resources</font></h1>\n",
    "\n",
    "<p>For students who need to build foundational knowledge in any of the prerequisite areas, the following online courses and materials are highly recommended:</p>\n",
    "\n",
    "<ul>\n",
    "    <li><strong>Basic Programming Skills in Python:</strong>\n",
    "        <ul>\n",
    "            <li><a href=\"https://www.coursera.org/specializations/python\">Python for Everybody (Coursera)</a>: A comprehensive course that covers Python programming from basics to intermediate topics.</li>\n",
    "            <li><a href=\"https://www.datacamp.com/courses/intro-to-python-for-data-science\">Introduction to Python (DataCamp)</a>: A beginner-friendly course focusing on Python for data science.</li>\n",
    "            <li><a href=\"https://www.codecademy.com/learn/learn-python-3\">Python Basics (Codecademy)</a>: An interactive course to learn Python fundamentals.</li>\n",
    "        </ul>\n",
    "    </li>\n",
    "    <li><strong>Foundations of Mathematics and Statistics:</strong>\n",
    "        <ul>\n",
    "            <li><a href=\"https://www.coursera.org/specializations/mathematics-machine-learning\">Mathematics for Machine Learning Specialization (Coursera)</a>: Focuses on linear algebra, calculus, and statistics relevant to machine learning.</li>\n",
    "            <li><a href=\"https://www.khanacademy.org/math/statistics-probability\">Introduction to Probability and Statistics (Khan Academy)</a>: Covers foundational concepts in statistics and probability.</li>\n",
    "            <li><a href=\"https://www.khanacademy.org/math/linear-algebra\">Linear Algebra (Khan Academy)</a>: A comprehensive series on linear algebra basics.</li>\n",
    "        </ul>\n",
    "    </li>\n",
    "    <li><strong>Introduction to Machine Learning Concepts:</strong>\n",
    "        <ul>\n",
    "            <li><a href=\"https://www.coursera.org/learn/machine-learning\">Machine Learning (Coursera, Andrew Ng)</a>: A widely recognized course that introduces core machine learning concepts and algorithms.</li>\n",
    "            <li><a href=\"https://www.datacamp.com/courses/intro-to-machine-learning-with-python\">Introduction to Machine Learning with Python (DataCamp)</a>: Provides a hands-on introduction to machine learning using Python.</li>\n",
    "            <li><a href=\"https://www.udacity.com/course/intro-to-machine-learning-with-pytorch--ud188\">Intro to Machine Learning (Udacity)</a>: Focuses on the foundational concepts and algorithms in machine learning.</li>\n",
    "        </ul>\n",
    "    </li>\n",
    "    <li><strong>Familiarity with Data Analysis and Visualization:</strong>\n",
    "        <ul>\n",
    "            <li><a href=\"https://www.coursera.org/specializations/data-science-fundamentals-python-sql\">Data Science Fundamentals with Python and SQL (Coursera)</a>: Includes data analysis and visualization modules.</li>\n",
    "            <li><a href=\"https://www.edx.org/course/data-analysis-with-python\">Data Analysis with Python (edX)</a>: Focuses on data analysis techniques using Python.</li>\n",
    "            <li><a href=\"https://www.datacamp.com/courses/introduction-to-data-visualization-with-python\">Data Visualization with Python (DataCamp)</a>: Covers basic to advanced visualization techniques.</li>\n",
    "        </ul>\n",
    "    </li>\n",
    "    <li><strong>Basic Knowledge of Version Control (Git/GitHub):</strong>\n",
    "        <ul>\n",
    "            <li><a href=\"https://www.coursera.org/learn/version-control-with-git\">Version Control with Git (Coursera)</a>: A comprehensive guide to Git for beginners.</li>\n",
    "            <li><a href=\"https://www.udacity.com/course/version-control-with-git--ud123\">Introduction to Git and GitHub (Udacity)</a>: Provides a solid foundation in Git and GitHub workflows.</li>\n",
    "            <li><a href=\"https://www.codecademy.com/learn/learn-git\">Learn Git & GitHub (Codecademy)</a>: An interactive course on the basics of Git and GitHub.</li>\n",
    "        </ul>\n",
    "    </li>\n",
    "</ul>\n"
   ]
  },
  {
   "cell_type": "markdown",
   "metadata": {
    "slideshow": {
     "slide_type": "fragment"
    }
   },
   "source": [
    "<h1><font color='#004b87'>Software and Tools</font></h1>\n",
    "<p></p>\n",
    "<li>Anaconda</li>\n",
    "<li>Jupyter Notebooks</li>\n",
    "<li>SQL</li>\n",
    "<li>Visual Studio Code (text editor)</li>\n",
    "<li>Google Colab (GPU Support)</li>"
   ]
  },
  {
   "cell_type": "markdown",
   "metadata": {
    "slideshow": {
     "slide_type": "slide"
    }
   },
   "source": [
    "<h2><font color='#004b87'>Course Syllabus and Course Contract</font></h2>\n",
    "<p></p>\n",
    "\n",
    "<li>Lets look at the Syllabus and the Contract</li>\n",
    "<li>Course contract needs to be signed or your work will not be marked</li>\n",
    "<li>Outlines the course rules as well as the responsbilities of the student</li>"
   ]
  },
  {
   "cell_type": "markdown",
   "metadata": {
    "slideshow": {
     "slide_type": "slide"
    }
   },
   "source": [
    "<h2><font color='#004b87'>Introduction to Machine Learning in Artificial Intelligence</font></h2>\n",
    "\n",
    "<p>Machine Learning (ML) is a core component of Artificial Intelligence (AI) that enables systems to learn and improve from experience without being explicitly programmed. It involves the use of algorithms and statistical models to identify patterns in large datasets, allowing computers to make predictions or decisions based on new data. Machine learning is pivotal in automating tasks that traditionally required human intelligence, such as image and speech recognition, language translation, and decision-making processes. By leveraging the power of data, machine learning systems can adapt and evolve, making them highly effective for dynamic and complex environments.</p>"
   ]
  },
  {
   "cell_type": "markdown",
   "metadata": {
    "slideshow": {
     "slide_type": "fragment"
    }
   },
   "source": [
    "<p>The development of machine learning has been driven by the increased availability of big data, advancements in computational power, and improvements in algorithms. Machine learning techniques are broadly categorized into three types: supervised learning, unsupervised learning, and reinforcement learning. Supervised learning involves training a model on a labeled dataset, where the input-output pairs are known, to make predictions on new, unseen data. Unsupervised learning, on the other hand, deals with unlabeled data and focuses on discovering hidden patterns or structures within the data. Reinforcement learning is inspired by behavioral psychology and involves training models to make a sequence of decisions by interacting with an environment to achieve a specific goal. Each of these learning types has unique applications and is used in various AI-driven solutions.</p>"
   ]
  },
  {
   "cell_type": "markdown",
   "metadata": {
    "slideshow": {
     "slide_type": "slide"
    }
   },
   "source": [
    "<h2><font color='#004b87'>Introduction to Machine Learning in Artificial Intelligence Continued</font></h2>\n",
    "\n",
    "<p>Machine learning's integration into AI has revolutionized numerous industries, from healthcare and finance to autonomous vehicles and entertainment. In healthcare, machine learning algorithms are used for diagnosing diseases, predicting patient outcomes, and personalizing treatment plans. In finance, these algorithms help in detecting fraudulent transactions and automating trading strategies. The impact of machine learning is further amplified by its use in developing sophisticated AI systems capable of complex problem-solving, such as natural language processing (NLP) and computer vision. As machine learning continues to evolve, it promises to unlock even more innovative applications, making it a critical area of study and development in the field of AI.</p>"
   ]
  },
  {
   "cell_type": "markdown",
   "metadata": {
    "slideshow": {
     "slide_type": "slide"
    }
   },
   "source": [
    "<h2><font color='#004b87'>Overview of Popular Machine Learning Frameworks</font></h2>\n",
    "\n",
    "<p><strong>Scikit-Learn</strong> is one of the most widely used machine learning libraries in Python, known for its simplicity and efficiency. Built on top of other Python libraries like NumPy, SciPy, and Matplotlib, Scikit-Learn provides a range of supervised and unsupervised learning algorithms, including linear regression, decision trees, clustering, and more. Its consistent and user-friendly API, along with extensive documentation, makes it an excellent choice for beginners and experts alike. Scikit-Learn is particularly well-suited for traditional machine learning tasks such as data preprocessing, feature selection, and model evaluation, making it a foundational tool in the data scientist's toolkit.</p>"
   ]
  },
  {
   "cell_type": "markdown",
   "metadata": {
    "slideshow": {
     "slide_type": "fragment"
    }
   },
   "source": [
    "<p><strong>TensorFlow</strong>, developed by Google Brain, is a powerful open-source platform for machine learning and deep learning applications. It is designed to be flexible and scalable, capable of running on a variety of hardware, from mobile devices to distributed computing clusters. TensorFlow excels in developing complex neural networks and deep learning models, such as Convolutional Neural Networks (CNNs) for image recognition and Recurrent Neural Networks (RNNs) for sequence prediction. With its high-level Keras API, TensorFlow simplifies the creation of machine learning models, making it accessible to both beginners and advanced users. TensorFlow's ecosystem also includes TensorFlow Serving for deploying models, TensorFlow Lite for mobile and embedded devices, and TensorFlow.js for running models in the browser, providing a comprehensive solution for machine learning projects from research to production.</p>\n"
   ]
  },
  {
   "cell_type": "markdown",
   "metadata": {
    "slideshow": {
     "slide_type": "slide"
    }
   },
   "source": [
    "<h2><font color='#004b87'>Overview of Popular Machine Learning Frameworks Continued</font></h2>\n",
    "\n",
    "<p><strong>PyTorch</strong>, developed by Facebook's AI Research lab, has gained significant popularity in recent years, particularly within the research community. PyTorch offers a more intuitive and dynamic approach to building machine learning models, thanks to its eager execution mode, which allows for immediate evaluation of operations and easier debugging. This flexibility makes PyTorch ideal for developing complex neural network architectures and experimenting with innovative research ideas. PyTorch also supports dynamic computational graphs, enabling more granular control over model execution, which is beneficial for tasks that require variable input sizes or sophisticated architectures. Its extensive ecosystem includes tools like Torchvision for computer vision, TorchText for natural language processing, and PyTorch Lightning for scaling model training, making PyTorch a versatile choice for both academic research and production-level machine learning applications.</p>"
   ]
  },
  {
   "cell_type": "markdown",
   "metadata": {
    "slideshow": {
     "slide_type": "fragment"
    }
   },
   "source": [
    "<p><strong>Keras</strong> is a high-level deep learning API that simplifies the process of building and training neural networks. Designed with user-friendliness and modularity in mind, Keras provides an easy-to-use interface that allows developers to create complex neural network architectures with minimal code. It supports a wide range of neural network layers and architectures, including Convolutional Neural Networks (CNNs), Recurrent Neural Networks (RNNs), and Long Short-Term Memory (LSTM) networks, making it versatile for various deep learning tasks like image classification, natural language processing, and time series forecasting. Keras is built on top of TensorFlow, which allows it to leverage TensorFlow’s powerful features, such as distributed training and GPU acceleration, while maintaining a straightforward and intuitive API. With its strong community support and extensive documentation, Keras is ideal for both beginners looking to get started with deep learning and experienced researchers looking to prototype and deploy models quickly.</p>\n"
   ]
  },
  {
   "cell_type": "markdown",
   "metadata": {
    "slideshow": {
     "slide_type": "slide"
    }
   },
   "source": [
    "<h2><font color='#004b87'>Python Environment Setup: Anaconda, Jupyter Notebook, Google Colab (Including GPU Support)</font></h2>\n",
    "\n",
    "<h3>1. Anaconda Setup</h3>\n",
    "\n",
    "<p><strong>Anaconda</strong> is a popular Python distribution that simplifies the installation of Python, Jupyter Notebook, and a wide range of machine learning and data science libraries. It also helps manage different environments for different projects.</p>\n",
    "\n",
    "<h4>Step-by-Step Setup:</h4>\n",
    "<ol>\n",
    "    <li><strong>Download and Install Anaconda:</strong>\n",
    "        <ul>\n",
    "            <li>Go to the <a href=\"https://www.anaconda.com/products/distribution\" target=\"_blank\">Anaconda website</a> and download the installer for your operating system (Windows, macOS, Linux).</li>\n",
    "            <li>Follow the installation instructions provided on the website. Make sure to check the option to add Anaconda to your system PATH during installation.</li>\n",
    "        </ul>\n",
    "    </li>\n",
    "    <li><strong>Create a New Environment:</strong>\n",
    "        <ul>\n",
    "            <li>Open the Anaconda Navigator or use the command line (Anaconda Prompt on Windows, Terminal on macOS/Linux).</li>\n",
    "            <li>Create a new environment with a specific version of Python:<br>\n",
    "                <code>conda create -n ml_env python=3.8</code></li>\n",
    "            <li>Activate the environment:<br>\n",
    "                <code>conda activate ml_env</code></li>\n",
    "        </ul>\n",
    "    </li>\n",
    "    <li><strong>Install Essential Libraries:</strong>\n",
    "        <ul>\n",
    "            <li>Install essential libraries such as NumPy, Pandas, Scikit-Learn, TensorFlow, and PyTorch:<br>\n",
    "                <code>conda install numpy pandas scikit-learn</code><br>\n",
    "                <code>conda install -c conda-forge tensorflow</code><br>\n",
    "                <code>conda install pytorch torchvision torchaudio -c pytorch</code></li>\n",
    "        </ul>\n",
    "    </li>\n",
    "    <li><strong>Install Jupyter Notebook:</strong>\n",
    "        <ul>\n",
    "            <li>Install Jupyter Notebook in the environment:<br>\n",
    "                <code>conda install jupyter</code></li>\n",
    "        </ul>\n",
    "    </li>\n",
    "    <li><strong>Launch Jupyter Notebook:</strong>\n",
    "        <ul>\n",
    "            <li>Start Jupyter Notebook from the command line:<br>\n",
    "                <code>jupyter notebook</code></li>\n",
    "            <li>This will open the Jupyter Notebook interface in your default web browser.</li>\n",
    "        </ul>\n",
    "    </li>\n",
    "</ol>\n",
    "\n",
    "\n"
   ]
  },
  {
   "cell_type": "markdown",
   "metadata": {
    "slideshow": {
     "slide_type": "slide"
    }
   },
   "source": [
    "<h3>2. Jupyter Notebook Setup</h3>\n",
    "\n",
    "<p><strong>Jupyter Notebook</strong> is an open-source web application that allows you to create and share documents containing live code, equations, visualizations, and narrative text.</p>\n",
    "\n",
    "<h4>Key Features:</h4>\n",
    "<ul>\n",
    "    <li>Interactive coding environment</li>\n",
    "    <li>Supports multiple languages, though Python is the most common</li>\n",
    "    <li>Ideal for data cleaning, transformation, visualization, and machine learning tasks</li>\n",
    "</ul>\n",
    "\n",
    "<h4>GPU Support in Jupyter Notebook:</h4>\n",
    "<p>If you have a compatible NVIDIA GPU and CUDA toolkit installed, TensorFlow and PyTorch will automatically detect and utilize the GPU. Ensure you install the GPU versions of these libraries.</p>\n",
    "\n",
    "<h4>Steps to Set Up GPU Support:</h4>\n",
    "<ol>\n",
    "    <li><strong>Install NVIDIA Drivers:</strong>\n",
    "        <ul>\n",
    "            <li>Install the latest NVIDIA drivers for your GPU. You can download these from the <a href=\"https://www.nvidia.com/Download/index.aspx\" target=\"_blank\">NVIDIA website</a>.</li>\n",
    "        </ul>\n",
    "    </li>\n",
    "    <li><strong>Install CUDA Toolkit and cuDNN:</strong>\n",
    "        <ul>\n",
    "            <li>Download and install the CUDA toolkit and cuDNN from the <a href=\"https://developer.nvidia.com/cuda-downloads\" target=\"_blank\">NVIDIA Developer website</a>. Follow the installation instructions for your operating system.</li>\n",
    "        </ul>\n",
    "    </li>\n",
    "    <li><strong>Verify CUDA Installation:</strong>\n",
    "        <ul>\n",
    "            <li>After installation, verify the CUDA version:<br>\n",
    "                <code>nvcc --version</code></li>\n",
    "        </ul>\n",
    "    </li>\n",
    "    <li><strong>Install GPU Versions of Libraries:</strong>\n",
    "        <ul>\n",
    "            <li>Make sure to install the GPU-enabled versions of TensorFlow and PyTorch:<br>\n",
    "                <code>conda install -c conda-forge tensorflow-gpu</code><br>\n",
    "                <code>conda install pytorch torchvision torchaudio cudatoolkit=11.3 -c pytorch</code></li>\n",
    "        </ul>\n",
    "    </li>\n",
    "</ol>\n",
    "\n"
   ]
  },
  {
   "cell_type": "markdown",
   "metadata": {
    "slideshow": {
     "slide_type": "slide"
    }
   },
   "source": [
    "<h3>3. Google Colab Setup</h3>\n",
    "\n",
    "<p><strong>Google Colab</strong> (Colaboratory) is a free cloud-based Jupyter Notebook environment that allows you to run Python code on Google’s servers, with access to powerful GPUs and TPUs.</p>\n",
    "\n",
    "<h4>Key Features:</h4>\n",
    "<ul>\n",
    "    <li>No local setup required; runs entirely in the cloud</li>\n",
    "    <li>Free access to GPUs and TPUs</li>\n",
    "    <li>Ideal for machine learning and deep learning tasks</li>\n",
    "    <li>Real-time collaboration and sharing</li>\n",
    "</ul>\n",
    "\n",
    "<h4>Step-by-Step Setup:</h4>\n",
    "<ol>\n",
    "    <li><strong>Access Google Colab:</strong>\n",
    "        <ul>\n",
    "            <li>Visit <a href=\"https://colab.research.google.com/\" target=\"_blank\">Google Colab</a> and sign in with your Google account.</li>\n",
    "        </ul>\n",
    "    </li>\n",
    "    <li><strong>Create a New Notebook:</strong>\n",
    "        <ul>\n",
    "            <li>Click on “New Notebook” to create a new Jupyter Notebook in the Colab environment.</li>\n",
    "        </ul>\n",
    "    </li>\n",
    "    <li><strong>Enable GPU or TPU:</strong>\n",
    "        <ul>\n",
    "            <li>Go to <code>Runtime &gt; Change runtime type</code>.</li>\n",
    "            <li>Select <code>GPU</code> or <code>TPU</code> from the “Hardware accelerator” dropdown menu and click “Save.”</li>\n",
    "        </ul>\n",
    "    </li>\n",
    "    <li><strong>Install Required Libraries:</strong>\n",
    "        <ul>\n",
    "            <li>Google Colab comes pre-installed with many popular libraries, but you may need to install additional libraries. Use the <code>!pip install</code> command within a code cell:<br>\n",
    "                <code>!pip install scikit-learn tensorflow torch torchvision</code></li>\n",
    "        </ul>\n",
    "    </li>\n",
    "    <li><strong>Verify GPU Availability:</strong>\n",
    "        <ul>\n",
    "            <li>To verify that your Colab notebook is utilizing the GPU, run the following code:</li>\n",
    "        </ul>\n",
    "        <pre><code>import tensorflow as tf\n",
    "print(\"GPU is\", \"available\" if tf.config.list_physical_devices('GPU') else \"NOT AVAILABLE\")\n",
    "\n",
    "import torch\n",
    "print(\"GPU is\", \"available\" if torch.cuda.is_available() else \"NOT AVAILABLE\")</code></pre>\n",
    "    </li>\n",
    "</ol>\n",
    "\n"
   ]
  },
  {
   "cell_type": "markdown",
   "metadata": {
    "slideshow": {
     "slide_type": "slide"
    }
   },
   "source": [
    "<h3>Summary</h3>\n",
    "<ul>\n",
    "    <li><strong>Anaconda</strong> provides a comprehensive local environment for machine learning with powerful package management and environment isolation.</li>\n",
    "    <li><strong>Jupyter Notebook</strong> is a flexible, interactive tool ideal for machine learning tasks, which supports GPU acceleration if properly set up.</li>\n",
    "    <li><strong>Google Colab</strong> offers a hassle-free, cloud-based environment with free access to GPUs and TPUs, making it an excellent choice for students and researchers looking for a simple and scalable solution.</li>\n",
    "</ul>"
   ]
  },
  {
   "cell_type": "markdown",
   "metadata": {
    "slideshow": {
     "slide_type": "slide"
    }
   },
   "source": [
    "<h2><font color='#004b87'>Introduction to Git and Version Control</font></h2>\n",
    "\n",
    "\n",
    "<p><strong>Git</strong> is a distributed version control system that allows multiple developers to collaborate on a project by tracking changes to the codebase over time. It provides a robust way to manage the history of file changes, collaborate with others, and revert to previous versions of code when necessary. Git is widely used in software development and data science projects for maintaining code integrity, managing branches for different features or experiments, and integrating changes smoothly.</p>\n",
    "\n",
    "<h3>What is Version Control?</h3>\n",
    "\n",
    "<p><strong>Version control</strong> is a system that records changes to a file or set of files over time so that you can recall specific versions later. It is essential for collaborative work environments where multiple people contribute to the same project, allowing teams to work simultaneously without overwriting each other's changes. Version control also helps in maintaining a history of changes, making it easy to revert to previous versions, understand the evolution of the project, and ensure that code modifications are documented and traceable.</p>\n",
    "\n",
    "<h3>Benefits of Using Git for Version Control</h3>\n",
    "\n",
    "<ul>\n",
    "    <li><strong>Distributed System:</strong> Unlike centralized version control systems, Git allows every user to have a complete copy of the repository, including its history. This makes it robust and fault-tolerant.</li>\n",
    "    <li><strong>Collaboration:</strong> Git facilitates collaboration by allowing multiple developers to work on different branches simultaneously. Changes can be merged back into the main branch after review.</li>\n",
    "    <li><strong>Track Changes:</strong> Git tracks every modification to the codebase, making it easy to see who made changes, why, and when. This is crucial for debugging and auditing purposes.</li>\n",
    "    <li><strong>Revert Changes:</strong> If a change introduces a bug or breaks functionality, Git allows you to easily revert to a previous stable version of the code.</li>\n",
    "    <li><strong>Branching and Merging:</strong> Git's branching model allows developers to create multiple branches for different features or experiments. Once the changes are finalized, they can be merged back into the main branch.</li>\n",
    "</ul>\n",
    "\n"
   ]
  },
  {
   "cell_type": "markdown",
   "metadata": {
    "slideshow": {
     "slide_type": "slide"
    }
   },
   "source": [
    "<h2><font color='#004b87'>Setting Up Git</font></h2>\n",
    "\n",
    "<p>Follow these steps to set up Git on your local machine:</p>\n",
    "\n",
    "<h4>Step 1: Install Git</h4>\n",
    "\n",
    "<ul>\n",
    "    <li><strong>Windows:</strong> Download the Git installer from the <a href=\"https://git-scm.com/download/win\" target=\"_blank\">official Git website</a> and follow the installation instructions. During installation, choose \"Use Git from the Windows Command Prompt\" for easier access.</li>\n",
    "    <li><strong>macOS:</strong> Open the Terminal and run the following command:<br>\n",
    "        <code>xcode-select --install</code><br>\n",
    "        Alternatively, you can download the installer from the <a href=\"https://git-scm.com/download/mac\" target=\"_blank\">official Git website</a>.</li>\n",
    "    <li><strong>Linux:</strong> Install Git using your distribution's package manager. For example, on Debian-based distributions like Ubuntu, run:<br>\n",
    "        <code>sudo apt-get update</code><br>\n",
    "        <code>sudo apt-get install git</code></li>\n",
    "</ul>\n",
    "\n",
    "<h4>Step 2: Configure Git</h4>\n",
    "\n",
    "<p>After installing Git, configure it with your user information. This is important for tracking who makes changes to the repository.</p>\n",
    "\n",
    "<ul>\n",
    "    <li>Open your command line interface (Terminal, Command Prompt, or Git Bash).</li>\n",
    "    <li>Set your username:<br>\n",
    "        <code>git config --global user.name \"Your Name\"</code></li>\n",
    "    <li>Set your email address:<br>\n",
    "        <code>git config --global user.email \"your.email@example.com\"</code></li>\n",
    "    <li>Optionally, set your preferred text editor for Git commit messages:<br>\n",
    "        <code>git config --global core.editor \"nano\"</code><br>\n",
    "        Replace \"nano\" with your preferred text editor (e.g., vim, code for VS Code).</li>\n",
    "</ul>\n"
   ]
  },
  {
   "cell_type": "markdown",
   "metadata": {
    "slideshow": {
     "slide_type": "slide"
    }
   },
   "source": [
    "<h4>Step 3: Create a Local Git Repository</h4>\n",
    "\n",
    "<p>A Git repository is a directory where Git stores the history of changes. To create a new repository:</p>\n",
    "\n",
    "<ul>\n",
    "    <li>Navigate to the directory where you want to initialize a Git repository:<br>\n",
    "        <code>cd /path/to/your/project</code></li>\n",
    "    <li>Initialize a new Git repository:<br>\n",
    "        <code>git init</code></li>\n",
    "    <li>This creates a hidden <code>.git</code> directory that stores the repository data.</li>\n",
    "</ul>\n",
    "\n",
    "<h4>Step 4: Staging and Committing Changes</h4>\n",
    "\n",
    "<p>Git uses a two-step process to save changes: staging and committing.</p>\n",
    "\n",
    "<ul>\n",
    "    <li><strong>Staging Changes:</strong> To add files to the staging area (where you prepare files for the next commit), use:<br>\n",
    "        <code>git add filename</code><br>\n",
    "        Or to add all files:<br>\n",
    "        <code>git add .</code></li>\n",
    "    <li><strong>Committing Changes:</strong> To commit staged changes to the repository, use:<br>\n",
    "        <code>git commit -m \"Describe your changes here\"</code></li>\n",
    "</ul>"
   ]
  },
  {
   "cell_type": "markdown",
   "metadata": {
    "slideshow": {
     "slide_type": "slide"
    }
   },
   "source": [
    "<h4>Step 5: Connecting to a Remote Repository</h4>\n",
    "\n",
    "<p>To collaborate with others, you need to connect your local repository to a remote repository (e.g., on GitHub, GitLab, or Bitbucket).</p>\n",
    "\n",
    "<ul>\n",
    "    <li>Create a new repository on a remote hosting service like <a href=\"https://github.com/\" target=\"_blank\">GitHub</a>.</li>\n",
    "    <li>Copy the repository URL (e.g., <code>https://github.com/yourusername/your-repo.git</code>).</li>\n",
    "    <li>Add the remote repository to your local repository:<br>\n",
    "        <code>git remote add origin https://github.com/yourusername/your-repo.git</code></li>\n",
    "    <li>Push your changes to the remote repository:<br>\n",
    "        <code>git push -u origin master</code></li>\n",
    "</ul>\n",
    "\n",
    "<h4>Step 6: Common Git Commands</h4>\n",
    "\n",
    "<p>Here are some common Git commands you'll use frequently:</p>\n",
    "\n",
    "<ul>\n",
    "    <li><code>git status</code>: Shows the status of your working directory and staging area.</li>\n",
    "    <li><code>git pull</code>: Fetches and merges changes from the remote repository to your local repository.</li>\n",
    "    <li><code>git push</code>: Pushes local changes to the remote repository.</li>\n",
    "    <li><code>git branch</code>: Lists all branches in the repository. The <code>-a</code> option lists all branches, both local and remote.</li>\n",
    "    <li><code>git checkout branch-name</code>: Switches to a different branch.</li>\n",
    "    <li><code>git merge branch-name</code>: Merges the specified branch into the current branch.</li>\n",
    "</ul>"
   ]
  },
  {
   "cell_type": "markdown",
   "metadata": {
    "slideshow": {
     "slide_type": "slide"
    }
   },
   "source": [
    "<h4>Step 7: Best Practices for Using Git</h4>\n",
    "\n",
    "<ul>\n",
    "    <li><strong>Commit Frequently:</strong> Make small, frequent commits with clear messages to ensure each commit represents a single logical change.</li>\n",
    "    <li><strong>Use Branches:</strong> Use branches to isolate new features, experiments, or bug fixes. This keeps the main branch stable and clean.</li>\n",
    "    <li><strong>Write Clear Commit Messages:</strong> Write concise but descriptive commit messages to make it easier to understand the history of changes.</li>\n",
    "    <li><strong>Regularly Pull Changes:</strong> If working in a team, regularly pull changes from the remote repository to stay up to date with others' work.</li>\n",
    "    <li><strong>Review Code Before Merging:</strong> Before merging changes into the main branch, review the code to ensure it meets the project's standards and requirements.</li>\n",
    "</ul>\n",
    "\n",
    "<h3>Conclusion</h3>\n",
    "\n",
    "<p>Git is a powerful tool that enables version control and collaboration, essential for any software development or data science project. By understanding how to set up and use Git effectively, you can manage your codebase more efficiently, collaborate with others seamlessly, and maintain a robust history of your project’s development. Whether you're working on solo projects or as part of a team, mastering Git is a fundamental skill for any developer or data scientist.</p>"
   ]
  },
  {
   "cell_type": "markdown",
   "metadata": {
    "slideshow": {
     "slide_type": "slide"
    }
   },
   "source": [
    "<h2><font color='#004b87'>Python Example: Linear Regression with Git and Version Control</font></h2>\n",
    "\n",
    "<p>This example demonstrates how to set up a basic Python environment, use Git for version control, create a simple linear regression model using Scikit-Learn, and push your changes to a remote repository on GitHub.</p>\n",
    "\n",
    "<h3>Step-by-Step Instructions</h3>\n",
    "\n",
    "<h4>1. Create a New Local Git Repository</h4>\n",
    "<p>First, create a new directory for your project and initialize a Git repository:</p>\n",
    "\n",
    "<pre><code>!mkdir ml_project\n",
    "%cd ml_project\n",
    "!git init\n",
    "</code></pre>\n",
    "\n",
    "<h4>2. Create a Python Script (<code>main.py</code>)</h4>\n",
    "<p>Inside your new directory, create a Python script named <code>main.py</code> with the following code:</p>\n",
    "\n",
    "<h4>3. Test Your Script</h4>\n",
    "<p>Run the script to ensure it works correctly:</p>\n",
    "\n",
    "<pre><code>!python main.py</code></pre>\n",
    "\n",
    "<p>You should see an output similar to:</p>\n",
    "\n",
    "<pre><code>Mean Squared Error of the model: 3.99</code></pre>\n",
    "\n",
    "<h4>4. Stage and Commit Your Changes</h4>\n",
    "<p>After creating and testing your script, add your files to the Git staging area and commit them to your local repository:</p>\n",
    "\n",
    "<pre><code>!git add main.py\n",
    "!git commit -m \"Initial commit: Added linear regression example\"\n",
    "</code></pre>\n",
    "\n",
    "<h4>5. Create a Remote Repository on GitHub</h4>\n",
    "<p>Go to GitHub, create a new repository, and link your local repository to the remote repository:</p>\n",
    "\n",
    "<pre><code>!git remote add origin https://github.com/yourusername/ml_project.git\n",
    "!git push -u origin master\n",
    "</code></pre>\n",
    "\n",
    "<h4>6. Run in Google Colab (Optional)</h4>\n",
    "<p>If you want to run this example in Google Colab, install the necessary libraries and enable GPU:</p>\n",
    "\n",
    "<pre><code>!pip install numpy pandas scikit-learn</code></pre>\n",
    "\n",
    "<p>Then, copy the code from <code>main.py</code> into a cell and run it.</p>\n"
   ]
  },
  {
   "cell_type": "code",
   "execution_count": 9,
   "metadata": {
    "slideshow": {
     "slide_type": "slide"
    }
   },
   "outputs": [
    {
     "name": "stdout",
     "output_type": "stream",
     "text": [
      "Mean Squared Error of the model: 2.61\n"
     ]
    }
   ],
   "source": [
    "# Import necessary libraries\n",
    "import numpy as np\n",
    "import pandas as pd\n",
    "from sklearn.model_selection import train_test_split\n",
    "from sklearn.linear_model import LinearRegression\n",
    "from sklearn.metrics import mean_squared_error\n",
    "\n",
    "# Generate a small dataset for testing\n",
    "np.random.seed(42)\n",
    "X = np.random.rand(100, 1) * 10  # Feature: random numbers between 0 and 10\n",
    "y = 2.5 * X + np.random.randn(100, 1) * 2  # Target: linear relationship with noise\n",
    "\n",
    "# Convert to a DataFrame\n",
    "data = pd.DataFrame(data=np.hstack((X, y)), columns=[\"Feature\", \"Target\"])\n",
    "\n",
    "# Split the dataset into training and testing sets\n",
    "X_train, X_test, y_train, y_test = train_test_split(data[[\"Feature\"]], data[\"Target\"], test_size=0.2, random_state=42)\n",
    "\n",
    "# Create a Linear Regression model\n",
    "model = LinearRegression()\n",
    "model.fit(X_train, y_train)\n",
    "\n",
    "# Make predictions and calculate the mean squared error\n",
    "y_pred = model.predict(X_test)\n",
    "mse = mean_squared_error(y_test, y_pred)\n",
    "\n",
    "print(f\"Mean Squared Error of the model: {mse:.2f}\")\n"
   ]
  }
 ],
 "metadata": {
  "celltoolbar": "Slideshow",
  "kernelspec": {
   "display_name": "Python 3",
   "language": "python",
   "name": "python3"
  },
  "language_info": {
   "codemirror_mode": {
    "name": "ipython",
    "version": 3
   },
   "file_extension": ".py",
   "mimetype": "text/x-python",
   "name": "python",
   "nbconvert_exporter": "python",
   "pygments_lexer": "ipython3",
   "version": "3.12.5"
  }
 },
 "nbformat": 4,
 "nbformat_minor": 4
}
